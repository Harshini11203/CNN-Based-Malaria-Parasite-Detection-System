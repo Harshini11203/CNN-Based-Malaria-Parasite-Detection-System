{
  "cells": [
    {
      "cell_type": "markdown",
      "metadata": {
        "id": "view-in-github",
        "colab_type": "text"
      },
      "source": [
        "<a href=\"https://colab.research.google.com/github/Harshini11203/CNN-Based-Malaria-Parasite-Detection-System/blob/main/malarial_parasite_detection_.ipynb\" target=\"_parent\"><img src=\"https://colab.research.google.com/assets/colab-badge.svg\" alt=\"Open In Colab\"/></a>"
      ]
    },
    {
      "cell_type": "markdown",
      "metadata": {
        "id": "QGHvs2GzaxiR"
      },
      "source": [
        "#Downloading Requirements"
      ]
    },
    {
      "cell_type": "code",
      "execution_count": null,
      "metadata": {
        "colab": {
          "base_uri": "https://localhost:8080/"
        },
        "id": "-LWwPSmEa5D6",
        "outputId": "6fb37c70-22d2-4557-9268-841e2d062b1f"
      },
      "outputs": [
        {
          "output_type": "stream",
          "name": "stdout",
          "text": [
            "Requirement already satisfied: numpy in /usr/local/lib/python3.10/dist-packages (1.26.4)\n"
          ]
        }
      ],
      "source": [
        "!pip install numpy"
      ]
    },
    {
      "cell_type": "markdown",
      "metadata": {
        "id": "ZzeM1azSW-FD"
      },
      "source": [
        "#Libraries"
      ]
    },
    {
      "cell_type": "code",
      "execution_count": null,
      "metadata": {
        "id": "AqEV395hXGNK"
      },
      "outputs": [],
      "source": [
        "import numpy as np\n",
        "import cv2\n",
        "from google.colab.patches import cv2_imshow\n",
        "from matplotlib import pyplot as plt"
      ]
    },
    {
      "cell_type": "markdown",
      "metadata": {
        "id": "Ng5ibdXR5L2U"
      },
      "source": [
        "#Mounting Data"
      ]
    },
    {
      "cell_type": "code",
      "execution_count": null,
      "metadata": {
        "colab": {
          "base_uri": "https://localhost:8080/"
        },
        "id": "z44VMnr15QN-",
        "outputId": "146f3200-caa3-4cfc-cada-3dd4d07714c6"
      },
      "outputs": [
        {
          "output_type": "stream",
          "name": "stdout",
          "text": [
            "Drive already mounted at /content/drive; to attempt to forcibly remount, call drive.mount(\"/content/drive\", force_remount=True).\n"
          ]
        }
      ],
      "source": [
        "from google.colab import drive\n",
        "drive.mount('/content/drive')"
      ]
    },
    {
      "cell_type": "markdown",
      "metadata": {
        "id": "ntElsCjpfoyO"
      },
      "source": [
        "#Labeling the Train dataset\n"
      ]
    },
    {
      "cell_type": "code",
      "execution_count": null,
      "metadata": {
        "colab": {
          "base_uri": "https://localhost:8080/"
        },
        "id": "VIZQKswzfncX",
        "outputId": "cadd3ac7-21e1-4042-9e7a-6a6b86a0dcfb"
      },
      "outputs": [
        {
          "output_type": "stream",
          "name": "stdout",
          "text": [
            "Renaming completed.\n",
            "Renaming completed.\n"
          ]
        }
      ],
      "source": [
        "# parasite dataset\n",
        "\n",
        "import os\n",
        "\n",
        "# Set the path to your dataset folder\n",
        "dataset_path = \"/content/drive/MyDrive/Dataset/Train/parasite\"\n",
        "\n",
        "# Set the starting index for renaming\n",
        "start_index = 1001\n",
        "\n",
        "# Iterate through the files in the folder\n",
        "for filename in os.listdir(dataset_path):\n",
        "    # Check if the file is an image (you can customize the condition if needed)\n",
        "    if filename.endswith(('.jpg', '.png', '.jpeg')):\n",
        "        # Create the new filename using the start_index\n",
        "        new_filename = f\"{start_index}{os.path.splitext(filename)[1]}\"\n",
        "\n",
        "        # Create the full path for both old and new filenames\n",
        "        old_filepath = os.path.join(dataset_path, filename)\n",
        "        new_filepath = os.path.join(dataset_path, new_filename)\n",
        "\n",
        "        # Rename the file\n",
        "        os.rename(old_filepath, new_filepath)\n",
        "\n",
        "        # Increment the start_index for the next file\n",
        "        start_index += 1\n",
        "\n",
        "print(\"Renaming completed.\")\n",
        "\n",
        "\n",
        "#uninfected dataset\n",
        "\n",
        "import os\n",
        "\n",
        "# Set the path to your dataset folder\n",
        "dataset_path = \"/content/drive/MyDrive/Dataset/Train/uninfected\"\n",
        "\n",
        "# Set the starting index for renaming\n",
        "start_index = 2001\n",
        "\n",
        "# Iterate through the files in the folder\n",
        "for filename in os.listdir(dataset_path):\n",
        "    # Check if the file is an image (you can customize the condition if needed)\n",
        "    if filename.endswith(('.jpg', '.png', '.jpeg')):\n",
        "        # Create the new filename using the start_index\n",
        "        new_filename = f\"{start_index}{os.path.splitext(filename)[1]}\"\n",
        "\n",
        "        # Create the full path for both old and new filenames\n",
        "        old_filepath = os.path.join(dataset_path, filename)\n",
        "        new_filepath = os.path.join(dataset_path, new_filename)\n",
        "\n",
        "        # Rename the file\n",
        "        os.rename(old_filepath, new_filepath)\n",
        "\n",
        "        # Increment the start_index for the next file\n",
        "        start_index += 1\n",
        "\n",
        "print(\"Renaming completed.\")"
      ]
    },
    {
      "cell_type": "markdown",
      "metadata": {
        "id": "YmW19wnSytWd"
      },
      "source": [
        "#Labeling the Test Dataset"
      ]
    },
    {
      "cell_type": "code",
      "execution_count": null,
      "metadata": {
        "colab": {
          "base_uri": "https://localhost:8080/",
          "height": 211
        },
        "id": "gIFNR0Yfy0R2",
        "outputId": "27f7a4d9-c9d8-409d-e90a-5fc21ddfd224"
      },
      "outputs": [
        {
          "ename": "FileNotFoundError",
          "evalue": "[Errno 2] No such file or directory: '/content/drive/MyDrive/Dataset/Validation/parasite'",
          "output_type": "error",
          "traceback": [
            "\u001b[0;31m---------------------------------------------------------------------------\u001b[0m",
            "\u001b[0;31mFileNotFoundError\u001b[0m                         Traceback (most recent call last)",
            "\u001b[0;32m<ipython-input-6-3f2e959a1295>\u001b[0m in \u001b[0;36m<cell line: 12>\u001b[0;34m()\u001b[0m\n\u001b[1;32m     10\u001b[0m \u001b[0;34m\u001b[0m\u001b[0m\n\u001b[1;32m     11\u001b[0m \u001b[0;31m# Iterate through the files in the folder\u001b[0m\u001b[0;34m\u001b[0m\u001b[0;34m\u001b[0m\u001b[0m\n\u001b[0;32m---> 12\u001b[0;31m \u001b[0;32mfor\u001b[0m \u001b[0mfilename\u001b[0m \u001b[0;32min\u001b[0m \u001b[0mos\u001b[0m\u001b[0;34m.\u001b[0m\u001b[0mlistdir\u001b[0m\u001b[0;34m(\u001b[0m\u001b[0mdataset_path\u001b[0m\u001b[0;34m)\u001b[0m\u001b[0;34m:\u001b[0m\u001b[0;34m\u001b[0m\u001b[0;34m\u001b[0m\u001b[0m\n\u001b[0m\u001b[1;32m     13\u001b[0m     \u001b[0;31m# Check if the file is an image (you can customize the condition if needed)\u001b[0m\u001b[0;34m\u001b[0m\u001b[0;34m\u001b[0m\u001b[0m\n\u001b[1;32m     14\u001b[0m     \u001b[0;32mif\u001b[0m \u001b[0mfilename\u001b[0m\u001b[0;34m.\u001b[0m\u001b[0mendswith\u001b[0m\u001b[0;34m(\u001b[0m\u001b[0;34m(\u001b[0m\u001b[0;34m'.jpg'\u001b[0m\u001b[0;34m,\u001b[0m \u001b[0;34m'.png'\u001b[0m\u001b[0;34m,\u001b[0m \u001b[0;34m'.jpeg'\u001b[0m\u001b[0;34m)\u001b[0m\u001b[0;34m)\u001b[0m\u001b[0;34m:\u001b[0m\u001b[0;34m\u001b[0m\u001b[0;34m\u001b[0m\u001b[0m\n",
            "\u001b[0;31mFileNotFoundError\u001b[0m: [Errno 2] No such file or directory: '/content/drive/MyDrive/Dataset/Validation/parasite'"
          ]
        }
      ],
      "source": [
        "# parasite dataset\n",
        "\n",
        "import os\n",
        "\n",
        "# Set the path to your dataset folder\n",
        "dataset_path = \"/content/drive/MyDrive/Dataset/Validation/parasite\"\n",
        "\n",
        "# Set the starting index for renaming\n",
        "start_index = 3001\n",
        "\n",
        "# Iterate through the files in the folder\n",
        "for filename in os.listdir(dataset_path):\n",
        "    # Check if the file is an image (you can customize the condition if needed)\n",
        "    if filename.endswith(('.jpg', '.png', '.jpeg')):\n",
        "        # Create the new filename using the start_index\n",
        "        new_filename = f\"{start_index}{os.path.splitext(filename)[1]}\"\n",
        "\n",
        "        # Create the full path for both old and new filenames\n",
        "        old_filepath = os.path.join(dataset_path, filename)\n",
        "        new_filepath = os.path.join(dataset_path, new_filename)\n",
        "\n",
        "        # Rename the file\n",
        "        os.rename(old_filepath, new_filepath)\n",
        "\n",
        "        # Increment the start_index for the next file\n",
        "        start_index += 1\n",
        "\n",
        "print(\"Renaming completed.\")\n",
        "\n",
        "\n",
        "#uninfected dataset\n",
        "\n",
        "import os\n",
        "\n",
        "# Set the path to your dataset folder\n",
        "dataset_path = \"/content/drive/MyDrive/Dataset/Validation/uninfected\"\n",
        "\n",
        "# Set the starting index for renaming\n",
        "start_index = 4001\n",
        "\n",
        "# Iterate through the files in the folder\n",
        "for filename in os.listdir(dataset_path):\n",
        "    # Check if the file is an image (you can customize the condition if needed)\n",
        "    if filename.endswith(('.jpg', '.png', '.jpeg')):\n",
        "        # Create the new filename using the start_index\n",
        "        new_filename = f\"{start_index}{os.path.splitext(filename)[1]}\"\n",
        "\n",
        "        # Create the full path for both old and new filenames\n",
        "        old_filepath = os.path.join(dataset_path, filename)\n",
        "        new_filepath = os.path.join(dataset_path, new_filename)\n",
        "\n",
        "        # Rename the file\n",
        "        os.rename(old_filepath, new_filepath)\n",
        "\n",
        "        # Increment the start_index for the next file\n",
        "        start_index += 1\n",
        "\n",
        "print(\"Renaming completed.\")\n"
      ]
    },
    {
      "cell_type": "markdown",
      "metadata": {
        "id": "N9K3RkYKXIN7"
      },
      "source": [
        "#Image Preprocessing"
      ]
    },
    {
      "cell_type": "code",
      "source": [
        "import cv2\n",
        "import numpy as np\n",
        "import os\n",
        "\n",
        "def preprocess_image(image_path, kernel):\n",
        "    # Read the input image\n",
        "    my_img = cv2.imread(image_path, 0)\n",
        "\n",
        "    # Check if the image was loaded successfully\n",
        "    if my_img is None:\n",
        "        print(f\"Error: Unable to load image {image_path}\")\n",
        "        return False\n",
        "\n",
        "    # Apply morphology operation (opening)\n",
        "    clean_img = cv2.morphologyEx(my_img, cv2.MORPH_OPEN, kernel)\n",
        "\n",
        "    # Optional: Save processed images (uncomment if needed)\n",
        "    # output_path = image_path.replace('Train', 'Processed_Train')\n",
        "    # os.makedirs(os.path.dirname(output_path), exist_ok=True)\n",
        "    # cv2.imwrite(output_path, clean_img)\n",
        "\n",
        "    return True\n",
        "\n",
        "def process_folder():\n",
        "    # Define all the paths explicitly\n",
        "    train_path = '/content/drive/MyDrive/Dataset/Train'\n",
        "    parasite_path = '/content/drive/MyDrive/Dataset/Train/parasite'\n",
        "    uninfected_path = '/content/drive/MyDrive/Dataset/Train/uninfected'\n",
        "\n",
        "    # Define the kernel for preprocessing\n",
        "    kernel = np.ones((9, 9), np.uint8)\n",
        "\n",
        "    # Initialize counters for success\n",
        "    total_success_count = 0\n",
        "    category_counts = {}\n",
        "\n",
        "    # List of subfolders to process\n",
        "    subfolders = [parasite_path, uninfected_path]\n",
        "\n",
        "    for folder in subfolders:\n",
        "        # Extract category name from the path\n",
        "        category = os.path.basename(folder)\n",
        "\n",
        "        print(f\"Processing category: {category}\")\n",
        "        success_count = 0\n",
        "\n",
        "        # Iterate through all files in the subfolder\n",
        "        for file_name in os.listdir(folder):\n",
        "            image_path = os.path.join(folder, file_name)\n",
        "\n",
        "            # Process the image if it's a valid file\n",
        "            if os.path.isfile(image_path):\n",
        "                if preprocess_image(image_path, kernel):\n",
        "                    success_count += 1\n",
        "\n",
        "        # Save the count for this category\n",
        "        category_counts[category] = success_count\n",
        "        total_success_count += success_count\n",
        "\n",
        "        print(f\"Successfully processed {success_count} images in category '{category}'\")\n",
        "\n",
        "    print(\"\\nProcessing Summary:\")\n",
        "    for category, count in category_counts.items():\n",
        "        print(f\"  {category}: {count} images successfully processed\")\n",
        "    print(f\"Total images processed successfully: {total_success_count}\")\n",
        "\n",
        "# Run the folder processing\n",
        "process_folder()\n"
      ],
      "metadata": {
        "colab": {
          "base_uri": "https://localhost:8080/"
        },
        "id": "i9V-KLvLZ8V0",
        "outputId": "a3cd91dc-7876-4cf0-c328-14c9f6e96cd2"
      },
      "execution_count": null,
      "outputs": [
        {
          "output_type": "stream",
          "name": "stdout",
          "text": [
            "Processing category: parasite\n",
            "Successfully processed 220 images in category 'parasite'\n",
            "Processing category: uninfected\n",
            "Successfully processed 196 images in category 'uninfected'\n",
            "\n",
            "Processing Summary:\n",
            "  parasite: 220 images successfully processed\n",
            "  uninfected: 196 images successfully processed\n",
            "Total images processed successfully: 416\n"
          ]
        }
      ]
    },
    {
      "cell_type": "code",
      "execution_count": null,
      "metadata": {
        "colab": {
          "base_uri": "https://localhost:8080/",
          "height": 638
        },
        "id": "oNpUsylVXOpQ",
        "outputId": "9921a10c-e5b4-4d92-f9d5-380a7b3b288a"
      },
      "outputs": [
        {
          "name": "stdout",
          "output_type": "stream",
          "text": [
            "Enter the image name (after renaming): 1010.png\n"
          ]
        },
        {
          "output_type": "display_data",
          "data": {
            "text/plain": [
              "<PIL.Image.Image image mode=L size=142x163>"
            ],
            "image/png": "[encoded data removed]",
            "image/jpeg": "[encoded data removed]"
          },
          "metadata": {}
        },
        {
          "output_type": "stream",
          "name": "stdout",
          "text": [
            "Original Image:\n",
            "[[0 0 0 ... 0 0 0]\n",
            " [0 0 0 ... 0 0 0]\n",
            " [0 0 0 ... 0 0 0]\n",
            " ...\n",
            " [0 0 0 ... 0 0 0]\n",
            " [0 0 0 ... 0 0 0]\n",
            " [0 0 0 ... 0 0 0]]\n",
            "Processed Image:\n",
            "[[0 0 0 ... 0 0 0]\n",
            " [0 0 0 ... 0 0 0]\n",
            " [0 0 0 ... 0 0 0]\n",
            " ...\n",
            " [0 0 0 ... 0 0 0]\n",
            " [0 0 0 ... 0 0 0]\n",
            " [0 0 0 ... 0 0 0]]\n"
          ]
        },
        {
          "output_type": "display_data",
          "data": {
            "text/plain": [
              "<PIL.Image.Image image mode=L size=142x163>"
            ],
            "image/png": "[encoded data removed]",
            "image/jpeg": "[encoded data removed]"
          },
          "metadata": {}
        }
      ],
      "source": [
        "import cv2\n",
        "import numpy as np\n",
        "from google.colab.patches import cv2_imshow  # For displaying images in Colab\n",
        "\n",
        "def process_image(image_name):\n",
        "    # Define the kernel\n",
        "    kernel1 = np.ones((9, 9), np.uint8)\n",
        "\n",
        "    # Construct the full path to the image using the provided image name\n",
        "    image_path = f'/content/drive/MyDrive/Dataset/Train/parasite/{image_name}'\n",
        "\n",
        "    # Read the input image\n",
        "    my_img = cv2.imread(image_path, 0)\n",
        "\n",
        "    if my_img is None:\n",
        "        print(f\"Error: Unable to load image {image_path}\")\n",
        "        return\n",
        "    # Display the original image\n",
        "    cv2_imshow(my_img)\n",
        "\n",
        "    # Print the original image array\n",
        "    print(\"Original Image:\")\n",
        "    print(my_img)\n",
        "\n",
        "    # Apply morphology operation (opening)\n",
        "    clean1 = cv2.morphologyEx(my_img, cv2.MORPH_OPEN, kernel1)\n",
        "\n",
        "    # Print the processed image array\n",
        "    print(\"Processed Image:\")\n",
        "    print(clean1)\n",
        "\n",
        "    # Display the processed image\n",
        "    cv2_imshow(clean1)\n",
        "\n",
        "# Take user input for the image name (after renaming)\n",
        "image_name = input(\"Enter the image name (after renaming): \")\n",
        "process_image(image_name)"
      ]
    },
    {
      "cell_type": "code",
      "execution_count": null,
      "metadata": {
        "colab": {
          "base_uri": "https://localhost:8080/",
          "height": 572
        },
        "id": "PiRCMv1tRtR_",
        "outputId": "616a8977-149e-457f-fe69-8c97c4f765c6"
      },
      "outputs": [
        {
          "name": "stdout",
          "output_type": "stream",
          "text": [
            "Enter the image name (after renaming): 2005.png\n"
          ]
        },
        {
          "output_type": "display_data",
          "data": {
            "text/plain": [
              "<PIL.Image.Image image mode=L size=133x130>"
            ],
            "image/png": "[encoded data removed]",
            "image/jpeg": "[encoded data removed]"
          },
          "metadata": {}
        },
        {
          "output_type": "stream",
          "name": "stdout",
          "text": [
            "Original Image:\n",
            "[[0 0 0 ... 0 0 0]\n",
            " [0 0 0 ... 0 0 0]\n",
            " [0 0 0 ... 0 0 0]\n",
            " ...\n",
            " [0 0 0 ... 0 0 0]\n",
            " [0 0 0 ... 0 0 0]\n",
            " [0 0 0 ... 0 0 0]]\n",
            "Processed Image:\n",
            "[[0 0 0 ... 0 0 0]\n",
            " [0 0 0 ... 0 0 0]\n",
            " [0 0 0 ... 0 0 0]\n",
            " ...\n",
            " [0 0 0 ... 0 0 0]\n",
            " [0 0 0 ... 0 0 0]\n",
            " [0 0 0 ... 0 0 0]]\n"
          ]
        },
        {
          "output_type": "display_data",
          "data": {
            "text/plain": [
              "<PIL.Image.Image image mode=L size=133x130>"
            ],
            "image/png": "[encoded data removed]",
            "image/jpeg": "[encoded data removed]"
          },
          "metadata": {}
        }
      ],
      "source": [
        "# Import necessary libraries\n",
        "import cv2\n",
        "import numpy as np\n",
        "from google.colab.patches import cv2_imshow  # For displaying images in Colab\n",
        "\n",
        "def process_image(image_name, directory_path):\n",
        "    # Define the kernel\n",
        "    kernel1 = np.ones((9, 9), np.uint8)\n",
        "\n",
        "    # Construct the full path to the image using the provided image name\n",
        "    image_path = os.path.join(directory_path, image_name)\n",
        "\n",
        "    # Read the input image\n",
        "    my_img = cv2.imread(image_path, 0)\n",
        "\n",
        "    if my_img is None:\n",
        "        print(f\"Error: Unable to load image {image_path}\")\n",
        "        return\n",
        "    # Display the original image\n",
        "    cv2_imshow(my_img)\n",
        "\n",
        "    # Print the original image array\n",
        "    print(\"Original Image:\")\n",
        "    print(my_img)\n",
        "\n",
        "    # Apply morphology operation (opening)\n",
        "    clean1 = cv2.morphologyEx(my_img, cv2.MORPH_OPEN, kernel1)\n",
        "\n",
        "    # Print the processed image array\n",
        "    print(\"Processed Image:\")\n",
        "    print(clean1)\n",
        "\n",
        "    # Display the processed image\n",
        "    cv2_imshow(clean1)\n",
        "\n",
        "# Take user input for the directory path\n",
        "directory_path = '/content/drive/MyDrive/Dataset/Train/uninfected'  # Change this to your directory path\n",
        "\n",
        "# Take user input for the image name (after renaming)\n",
        "image_name = input(\"Enter the image name (after renaming): \")\n",
        "process_image(image_name, directory_path)\n"
      ]
    },
    {
      "cell_type": "markdown",
      "metadata": {
        "id": "44FOVYYDXbnO"
      },
      "source": [
        "#Image Segmentation"
      ]
    },
    {
      "cell_type": "code",
      "source": [
        "import cv2\n",
        "import numpy as np\n",
        "import os\n",
        "from matplotlib import pyplot as plt\n",
        "\n",
        "def segment_image(image_path, output_path):\n",
        "    # Read the image\n",
        "    img = cv2.imread(image_path)\n",
        "    if img is None:\n",
        "        print(f\"Error: Unable to load image {image_path}\")\n",
        "        return False\n",
        "\n",
        "    # Convert BGR to RGB for visualization\n",
        "    b, g, r = cv2.split(img)\n",
        "    rgb_img = cv2.merge([r, g, b])\n",
        "\n",
        "    # Convert to grayscale\n",
        "    gray = cv2.cvtColor(img, cv2.COLOR_BGR2GRAY)\n",
        "\n",
        "    # Apply Otsu's thresholding\n",
        "    ret, thresh = cv2.threshold(gray, 0, 255, cv2.THRESH_BINARY_INV + cv2.THRESH_OTSU)\n",
        "\n",
        "    # Noise removal using morphological closing\n",
        "    kernel = np.ones((2, 2), np.uint8)\n",
        "    closing = cv2.morphologyEx(thresh, cv2.MORPH_CLOSE, kernel, iterations=2)\n",
        "\n",
        "    # Sure background area\n",
        "    sure_bg = cv2.dilate(closing, kernel, iterations=3)\n",
        "\n",
        "    # Sure foreground area using distance transform\n",
        "    dist_transform = cv2.distanceTransform(sure_bg, cv2.DIST_L2, 3)\n",
        "    ret, sure_fg = cv2.threshold(dist_transform, 0.1 * dist_transform.max(), 255, 0)\n",
        "\n",
        "    # Unknown region\n",
        "    sure_fg = np.uint8(sure_fg)\n",
        "    unknown = cv2.subtract(sure_bg, sure_fg)\n",
        "\n",
        "    # Marker labelling\n",
        "    ret, markers = cv2.connectedComponents(sure_fg)\n",
        "    markers = markers + 1\n",
        "    markers[unknown == 255] = 0\n",
        "\n",
        "    # Apply watershed algorithm\n",
        "    markers = cv2.watershed(img, markers)\n",
        "    img[markers == -1] = [255, 0, 0]  # Mark boundaries in red\n",
        "\n",
        "    # Save the segmented image\n",
        "    os.makedirs(os.path.dirname(output_path), exist_ok=True)\n",
        "    cv2.imwrite(output_path, img)\n",
        "\n",
        "    return True\n",
        "\n",
        "def process_dataset():\n",
        "    # Define the dataset paths\n",
        "    train_path = '/content/drive/MyDrive/Dataset/Train'\n",
        "    parasite_path = '/content/drive/MyDrive/Dataset/Train/parasite'\n",
        "    uninfected_path = '/content/drive/MyDrive/Dataset/Train/uninfected'\n",
        "    output_base_path = '/content/drive/MyDrive/Dataset/Segmented'\n",
        "\n",
        "    # Subfolders to process\n",
        "    subfolders = {\n",
        "        \"parasite\": parasite_path,\n",
        "        \"uninfected\": uninfected_path\n",
        "    }\n",
        "\n",
        "    # Process each category\n",
        "    for category, folder in subfolders.items():\n",
        "        print(f\"Processing category: {category}\")\n",
        "        output_folder = os.path.join(output_base_path, category)\n",
        "        success_count = 0\n",
        "\n",
        "        # Iterate through all images in the folder\n",
        "        for file_name in os.listdir(folder):\n",
        "            input_image_path = os.path.join(folder, file_name)\n",
        "            output_image_path = os.path.join(output_folder, file_name)\n",
        "\n",
        "            # Segment the image\n",
        "            if os.path.isfile(input_image_path):\n",
        "                if segment_image(input_image_path, output_image_path):\n",
        "                    success_count += 1\n",
        "\n",
        "        print(f\"Successfully segmented {success_count} images in category '{category}'\")\n",
        "\n",
        "    print(\"Segmentation completed for the entire dataset.\")\n",
        "\n",
        "# Run the dataset segmentation\n",
        "process_dataset()\n"
      ],
      "metadata": {
        "colab": {
          "base_uri": "https://localhost:8080/"
        },
        "id": "z1-2iDppbix9",
        "outputId": "12ecb6c9-7774-4abf-da47-4df46c4bc02c"
      },
      "execution_count": null,
      "outputs": [
        {
          "output_type": "stream",
          "name": "stdout",
          "text": [
            "Processing category: parasite\n",
            "Successfully segmented 220 images in category 'parasite'\n",
            "Processing category: uninfected\n",
            "Successfully segmented 196 images in category 'uninfected'\n",
            "Segmentation completed for the entire dataset.\n"
          ]
        }
      ]
    },
    {
      "cell_type": "code",
      "execution_count": null,
      "metadata": {
        "colab": {
          "base_uri": "https://localhost:8080/",
          "height": 486
        },
        "id": "jZVkilrdXcFy",
        "outputId": "d42b6712-a75a-405d-8dc3-87c43e583ed1"
      },
      "outputs": [
        {
          "output_type": "display_data",
          "data": {
            "text/plain": [
              "<Figure size 640x480 with 2 Axes>"
            ],
            "image/png": "[encoded data removed]"
          },
          "metadata": {}
        }
      ],
      "source": [
        "import cv2\n",
        "import numpy as np\n",
        "from matplotlib import pyplot as plt\n",
        "\n",
        "img = cv2.imread(r'/content/drive/MyDrive/Dataset/Train/parasite/1010.png')\n",
        "b,g,r = cv2.split(img)\n",
        "rgb_img = cv2.merge([r,g,b])\n",
        "gray = cv2.cvtColor(img,cv2.COLOR_BGR2GRAY)\n",
        "ret, thresh = cv2.threshold(gray,0,255,cv2.THRESH_BINARY_INV+cv2.THRESH_OTSU)\n",
        "# noise removal\n",
        "kernel = np.ones((2,2),np.uint8)\n",
        "#opening = cv2.morphologyEx(thresh,cv2.MORPH_OPEN,kernel, iterations = 2)\n",
        "closing = cv2.morphologyEx(thresh,cv2.MORPH_CLOSE,kernel, iterations = 2)\n",
        "# sure background area\n",
        "sure_bg = cv2.dilate(closing,kernel,iterations=3)\n",
        "# Finding sure foreground area\n",
        "dist_transform = cv2.distanceTransform(sure_bg,cv2.DIST_L2,3)\n",
        "# Threshold\n",
        "ret, sure_fg = cv2.threshold(dist_transform,0.1*dist_transform.max(),255,0)\n",
        "# Finding unknown region\n",
        "sure_fg = np.uint8(sure_fg)\n",
        "unknown = cv2.subtract(sure_bg,sure_fg)\n",
        "# Marker labelling\n",
        "ret, markers = cv2.connectedComponents(sure_fg)\n",
        "# Add one to all labels so that sure background is not 0, but 1\n",
        "markers = markers+1\n",
        "# Now, mark the region of unknown with zero\n",
        "markers[unknown==255] = 0\n",
        "markers = cv2.watershed(img,markers)\n",
        "img[markers == -1] = [255,0,0]\n",
        "plt.subplot(211),plt.imshow(rgb_img)\n",
        "plt.title('Input Image'), plt.xticks([]), plt.yticks([])\n",
        "plt.subplot(212),plt.imshow(thresh, 'gray')\n",
        "plt.imsave(r'thresh.png',thresh)\n",
        "plt.title(\"Otsu's binary threshold\"), plt.xticks([]), plt.yticks([])\n",
        "plt.tight_layout()\n",
        "plt.show()"
      ]
    },
    {
      "cell_type": "markdown",
      "metadata": {
        "id": "o9o-cOaLAAqE"
      },
      "source": [
        "#Feature Extraction\n"
      ]
    },
    {
      "cell_type": "code",
      "execution_count": null,
      "metadata": {
        "colab": {
          "base_uri": "https://localhost:8080/"
        },
        "id": "lj-jHBcJBLjj",
        "outputId": "a1224fcb-ce4a-43ee-e1c4-1da919a6aaaa"
      },
      "outputs": [
        {
          "output_type": "stream",
          "name": "stdout",
          "text": [
            "Found 333 images belonging to 2 classes.\n",
            "Found 83 images belonging to 2 classes.\n",
            "Training Classes: {'parasite': 0, 'uninfected': 1}\n",
            "Number of training images: 333\n",
            "Validation Classes: {'parasite': 0, 'uninfected': 1}\n",
            "Number of validation images: 83\n"
          ]
        }
      ],
      "source": [
        "from tensorflow.keras.preprocessing.image import ImageDataGenerator\n",
        "import matplotlib.pyplot as plt\n",
        "\n",
        "# Create an ImageDataGenerator for training\n",
        "train_image_gen = ImageDataGenerator(\n",
        "    rescale=1/255,                 # Normalize pixel values to [0, 1]\n",
        "    validation_split=0.2,          # Reserve 20% of data for validation\n",
        "    rotation_range=20,             # Randomly rotate images by up to 20 degrees\n",
        "    width_shift_range=0.2,         # Randomly shift images horizontally\n",
        "    height_shift_range=0.2,        # Randomly shift images vertically\n",
        "    shear_range=0.2,               # Apply random shear transformations\n",
        "    zoom_range=0.2,                # Randomly zoom into images\n",
        "    horizontal_flip=True,          # Flip images horizontally\n",
        "    fill_mode='nearest'            # Fill missing pixels after transformations\n",
        ")\n",
        "\n",
        "# Separate generator for validation (no augmentation, only rescaling)\n",
        "val_image_gen = ImageDataGenerator(\n",
        "    rescale=1/255,                 # Normalize pixel values to [0, 1]\n",
        "    validation_split=0.2           # Must match training split\n",
        ")\n",
        "\n",
        "# Training data generator\n",
        "train_generator = train_image_gen.flow_from_directory(\n",
        "    '/content/drive/MyDrive/Dataset/Train',\n",
        "    target_size=(128, 128),        # Resize all images to 128x128\n",
        "    batch_size=32,                 # Number of images per batch\n",
        "    class_mode='binary',           # Binary classification\n",
        "    subset='training',             # Use the 'training' subset\n",
        ")\n",
        "\n",
        "# Validation data generator\n",
        "validation_generator = val_image_gen.flow_from_directory(\n",
        "    '/content/drive/MyDrive/Dataset/Train',  # Same directory as training\n",
        "    target_size=(128, 128),                  # Resize all images to 128x128\n",
        "    batch_size=32,                           # Number of images per batch\n",
        "    class_mode='binary',                     # Binary classification\n",
        "    subset='validation',                     # Use the 'validation' subset\n",
        ")\n",
        "\n",
        "# Display class indices and dataset sizes\n",
        "print(\"Training Classes:\", train_generator.class_indices)\n",
        "print(\"Number of training images:\", len(train_generator.filenames))\n",
        "print(\"Validation Classes:\", validation_generator.class_indices)\n",
        "print(\"Number of validation images:\", len(validation_generator.filenames))\n"
      ]
    },
    {
      "cell_type": "markdown",
      "metadata": {
        "id": "tRiSxYMrGTWq"
      },
      "source": [
        "#Building the Baseline Model\n"
      ]
    },
    {
      "cell_type": "code",
      "source": [
        "from keras.models import Sequential\n",
        "from keras.layers import Conv2D, MaxPooling2D, Flatten, Dense, Activation, Dropout, BatchNormalization, GlobalAveragePooling2D\n",
        "from keras.optimizers import Adam\n",
        "\n",
        "# Define image shape\n",
        "image_shape = (128, 128, 3)  # Adjust as per dataset\n",
        "\n",
        "# Build the model\n",
        "model = Sequential()\n",
        "\n",
        "# Convolutional Block 1\n",
        "model.add(Conv2D(32, (3, 3), activation='relu', input_shape=image_shape))\n",
        "model.add(BatchNormalization())\n",
        "model.add(MaxPooling2D((2, 2)))\n",
        "\n",
        "# Convolutional Block 2\n",
        "model.add(Conv2D(64, (3, 3), activation='relu'))\n",
        "model.add(BatchNormalization())\n",
        "model.add(MaxPooling2D((2, 2)))\n",
        "\n",
        "# Convolutional Block 3\n",
        "model.add(Conv2D(128, (3, 3), activation='relu'))\n",
        "model.add(BatchNormalization())\n",
        "model.add(MaxPooling2D((2, 2)))\n",
        "\n",
        "# Optional Convolutional Block 4\n",
        "model.add(Conv2D(256, (3, 3), activation='relu'))\n",
        "model.add(BatchNormalization())\n",
        "model.add(MaxPooling2D((2, 2)))\n",
        "\n",
        "# Replace Flatten with Global Average Pooling\n",
        "model.add(GlobalAveragePooling2D())\n",
        "\n",
        "# Fully Connected Layer with Dropout\n",
        "model.add(Dense(128, activation='relu'))\n",
        "model.add(Dropout(0.5))\n",
        "\n",
        "# Output Layer for Binary Classification\n",
        "model.add(Dense(1, activation='sigmoid'))\n",
        "\n",
        "# Compile the model\n",
        "optimizer = Adam(learning_rate=0.001)  # Learning rate\n",
        "model.compile(optimizer=optimizer, loss='binary_crossentropy', metrics=['accuracy'])\n",
        "\n",
        "# Model summary\n",
        "model.summary()\n"
      ],
      "metadata": {
        "colab": {
          "base_uri": "https://localhost:8080/",
          "height": 820
        },
        "id": "nA5uvOSIccWw",
        "outputId": "bec616e2-bc2c-4834-96c4-2c4acc011f04"
      },
      "execution_count": null,
      "outputs": [
        {
          "output_type": "stream",
          "name": "stderr",
          "text": [
            "/usr/local/lib/python3.10/dist-packages/keras/src/layers/convolutional/base_conv.py:107: UserWarning: Do not pass an `input_shape`/`input_dim` argument to a layer. When using Sequential models, prefer using an `Input(shape)` object as the first layer in the model instead.\n",
            "  super().__init__(activity_regularizer=activity_regularizer, **kwargs)\n"
          ]
        },
        {
          "output_type": "display_data",
          "data": {
            "text/plain": [
              "\u001b[1mModel: \"sequential\"\u001b[0m\n"
            ],
            "text/html": [
              "<pre style=\"white-space:pre;overflow-x:auto;line-height:normal;font-family:Menlo,'DejaVu Sans Mono',consolas,'Courier New',monospace\"><span style=\"font-weight: bold\">Model: \"sequential\"</span>\n",
              "</pre>\n"
            ]
          },
          "metadata": {}
        },
        {
          "output_type": "display_data",
          "data": {
            "text/plain": [
              "┏━━━━━━━━━━━━━━━━━━━━━━━━━━━━━━━━━━━━━━┳━━━━━━━━━━━━━━━━━━━━━━━━━━━━━┳━━━━━━━━━━━━━━━━━┓\n",
              "┃\u001b[1m \u001b[0m\u001b[1mLayer (type)                        \u001b[0m\u001b[1m \u001b[0m┃\u001b[1m \u001b[0m\u001b[1mOutput Shape               \u001b[0m\u001b[1m \u001b[0m┃\u001b[1m \u001b[0m\u001b[1m        Param #\u001b[0m\u001b[1m \u001b[0m┃\n",
              "┡━━━━━━━━━━━━━━━━━━━━━━━━━━━━━━━━━━━━━━╇━━━━━━━━━━━━━━━━━━━━━━━━━━━━━╇━━━━━━━━━━━━━━━━━┩\n",
              "│ conv2d (\u001b[38;5;33mConv2D\u001b[0m)                      │ (\u001b[38;5;45mNone\u001b[0m, \u001b[38;5;34m126\u001b[0m, \u001b[38;5;34m126\u001b[0m, \u001b[38;5;34m32\u001b[0m)        │             \u001b[38;5;34m896\u001b[0m │\n",
              "├──────────────────────────────────────┼─────────────────────────────┼─────────────────┤\n",
              "│ batch_normalization                  │ (\u001b[38;5;45mNone\u001b[0m, \u001b[38;5;34m126\u001b[0m, \u001b[38;5;34m126\u001b[0m, \u001b[38;5;34m32\u001b[0m)        │             \u001b[38;5;34m128\u001b[0m │\n",
              "│ (\u001b[38;5;33mBatchNormalization\u001b[0m)                 │                             │                 │\n",
              "├──────────────────────────────────────┼─────────────────────────────┼─────────────────┤\n",
              "│ max_pooling2d (\u001b[38;5;33mMaxPooling2D\u001b[0m)         │ (\u001b[38;5;45mNone\u001b[0m, \u001b[38;5;34m63\u001b[0m, \u001b[38;5;34m63\u001b[0m, \u001b[38;5;34m32\u001b[0m)          │               \u001b[38;5;34m0\u001b[0m │\n",
              "├──────────────────────────────────────┼─────────────────────────────┼─────────────────┤\n",
              "│ conv2d_1 (\u001b[38;5;33mConv2D\u001b[0m)                    │ (\u001b[38;5;45mNone\u001b[0m, \u001b[38;5;34m61\u001b[0m, \u001b[38;5;34m61\u001b[0m, \u001b[38;5;34m64\u001b[0m)          │          \u001b[38;5;34m18,496\u001b[0m │\n",
              "├──────────────────────────────────────┼─────────────────────────────┼─────────────────┤\n",
              "│ batch_normalization_1                │ (\u001b[38;5;45mNone\u001b[0m, \u001b[38;5;34m61\u001b[0m, \u001b[38;5;34m61\u001b[0m, \u001b[38;5;34m64\u001b[0m)          │             \u001b[38;5;34m256\u001b[0m │\n",
              "│ (\u001b[38;5;33mBatchNormalization\u001b[0m)                 │                             │                 │\n",
              "├──────────────────────────────────────┼─────────────────────────────┼─────────────────┤\n",
              "│ max_pooling2d_1 (\u001b[38;5;33mMaxPooling2D\u001b[0m)       │ (\u001b[38;5;45mNone\u001b[0m, \u001b[38;5;34m30\u001b[0m, \u001b[38;5;34m30\u001b[0m, \u001b[38;5;34m64\u001b[0m)          │               \u001b[38;5;34m0\u001b[0m │\n",
              "├──────────────────────────────────────┼─────────────────────────────┼─────────────────┤\n",
              "│ conv2d_2 (\u001b[38;5;33mConv2D\u001b[0m)                    │ (\u001b[38;5;45mNone\u001b[0m, \u001b[38;5;34m28\u001b[0m, \u001b[38;5;34m28\u001b[0m, \u001b[38;5;34m128\u001b[0m)         │          \u001b[38;5;34m73,856\u001b[0m │\n",
              "├──────────────────────────────────────┼─────────────────────────────┼─────────────────┤\n",
              "│ batch_normalization_2                │ (\u001b[38;5;45mNone\u001b[0m, \u001b[38;5;34m28\u001b[0m, \u001b[38;5;34m28\u001b[0m, \u001b[38;5;34m128\u001b[0m)         │             \u001b[38;5;34m512\u001b[0m │\n",
              "│ (\u001b[38;5;33mBatchNormalization\u001b[0m)                 │                             │                 │\n",
              "├──────────────────────────────────────┼─────────────────────────────┼─────────────────┤\n",
              "│ max_pooling2d_2 (\u001b[38;5;33mMaxPooling2D\u001b[0m)       │ (\u001b[38;5;45mNone\u001b[0m, \u001b[38;5;34m14\u001b[0m, \u001b[38;5;34m14\u001b[0m, \u001b[38;5;34m128\u001b[0m)         │               \u001b[38;5;34m0\u001b[0m │\n",
              "├──────────────────────────────────────┼─────────────────────────────┼─────────────────┤\n",
              "│ conv2d_3 (\u001b[38;5;33mConv2D\u001b[0m)                    │ (\u001b[38;5;45mNone\u001b[0m, \u001b[38;5;34m12\u001b[0m, \u001b[38;5;34m12\u001b[0m, \u001b[38;5;34m256\u001b[0m)         │         \u001b[38;5;34m295,168\u001b[0m │\n",
              "├──────────────────────────────────────┼─────────────────────────────┼─────────────────┤\n",
              "│ batch_normalization_3                │ (\u001b[38;5;45mNone\u001b[0m, \u001b[38;5;34m12\u001b[0m, \u001b[38;5;34m12\u001b[0m, \u001b[38;5;34m256\u001b[0m)         │           \u001b[38;5;34m1,024\u001b[0m │\n",
              "│ (\u001b[38;5;33mBatchNormalization\u001b[0m)                 │                             │                 │\n",
              "├──────────────────────────────────────┼─────────────────────────────┼─────────────────┤\n",
              "│ max_pooling2d_3 (\u001b[38;5;33mMaxPooling2D\u001b[0m)       │ (\u001b[38;5;45mNone\u001b[0m, \u001b[38;5;34m6\u001b[0m, \u001b[38;5;34m6\u001b[0m, \u001b[38;5;34m256\u001b[0m)           │               \u001b[38;5;34m0\u001b[0m │\n",
              "├──────────────────────────────────────┼─────────────────────────────┼─────────────────┤\n",
              "│ global_average_pooling2d             │ (\u001b[38;5;45mNone\u001b[0m, \u001b[38;5;34m256\u001b[0m)                 │               \u001b[38;5;34m0\u001b[0m │\n",
              "│ (\u001b[38;5;33mGlobalAveragePooling2D\u001b[0m)             │                             │                 │\n",
              "├──────────────────────────────────────┼─────────────────────────────┼─────────────────┤\n",
              "│ dense (\u001b[38;5;33mDense\u001b[0m)                        │ (\u001b[38;5;45mNone\u001b[0m, \u001b[38;5;34m128\u001b[0m)                 │          \u001b[38;5;34m32,896\u001b[0m │\n",
              "├──────────────────────────────────────┼─────────────────────────────┼─────────────────┤\n",
              "│ dropout (\u001b[38;5;33mDropout\u001b[0m)                    │ (\u001b[38;5;45mNone\u001b[0m, \u001b[38;5;34m128\u001b[0m)                 │               \u001b[38;5;34m0\u001b[0m │\n",
              "├──────────────────────────────────────┼─────────────────────────────┼─────────────────┤\n",
              "│ dense_1 (\u001b[38;5;33mDense\u001b[0m)                      │ (\u001b[38;5;45mNone\u001b[0m, \u001b[38;5;34m1\u001b[0m)                   │             \u001b[38;5;34m129\u001b[0m │\n",
              "└──────────────────────────────────────┴─────────────────────────────┴─────────────────┘\n"
            ],
            "text/html": [
              "<pre style=\"white-space:pre;overflow-x:auto;line-height:normal;font-family:Menlo,'DejaVu Sans Mono',consolas,'Courier New',monospace\">┏━━━━━━━━━━━━━━━━━━━━━━━━━━━━━━━━━━━━━━┳━━━━━━━━━━━━━━━━━━━━━━━━━━━━━┳━━━━━━━━━━━━━━━━━┓\n",
              "┃<span style=\"font-weight: bold\"> Layer (type)                         </span>┃<span style=\"font-weight: bold\"> Output Shape                </span>┃<span style=\"font-weight: bold\">         Param # </span>┃\n",
              "┡━━━━━━━━━━━━━━━━━━━━━━━━━━━━━━━━━━━━━━╇━━━━━━━━━━━━━━━━━━━━━━━━━━━━━╇━━━━━━━━━━━━━━━━━┩\n",
              "│ conv2d (<span style=\"color: #0087ff; text-decoration-color: #0087ff\">Conv2D</span>)                      │ (<span style=\"color: #00d7ff; text-decoration-color: #00d7ff\">None</span>, <span style=\"color: #00af00; text-decoration-color: #00af00\">126</span>, <span style=\"color: #00af00; text-decoration-color: #00af00\">126</span>, <span style=\"color: #00af00; text-decoration-color: #00af00\">32</span>)        │             <span style=\"color: #00af00; text-decoration-color: #00af00\">896</span> │\n",
              "├──────────────────────────────────────┼─────────────────────────────┼─────────────────┤\n",
              "│ batch_normalization                  │ (<span style=\"color: #00d7ff; text-decoration-color: #00d7ff\">None</span>, <span style=\"color: #00af00; text-decoration-color: #00af00\">126</span>, <span style=\"color: #00af00; text-decoration-color: #00af00\">126</span>, <span style=\"color: #00af00; text-decoration-color: #00af00\">32</span>)        │             <span style=\"color: #00af00; text-decoration-color: #00af00\">128</span> │\n",
              "│ (<span style=\"color: #0087ff; text-decoration-color: #0087ff\">BatchNormalization</span>)                 │                             │                 │\n",
              "├──────────────────────────────────────┼─────────────────────────────┼─────────────────┤\n",
              "│ max_pooling2d (<span style=\"color: #0087ff; text-decoration-color: #0087ff\">MaxPooling2D</span>)         │ (<span style=\"color: #00d7ff; text-decoration-color: #00d7ff\">None</span>, <span style=\"color: #00af00; text-decoration-color: #00af00\">63</span>, <span style=\"color: #00af00; text-decoration-color: #00af00\">63</span>, <span style=\"color: #00af00; text-decoration-color: #00af00\">32</span>)          │               <span style=\"color: #00af00; text-decoration-color: #00af00\">0</span> │\n",
              "├──────────────────────────────────────┼─────────────────────────────┼─────────────────┤\n",
              "│ conv2d_1 (<span style=\"color: #0087ff; text-decoration-color: #0087ff\">Conv2D</span>)                    │ (<span style=\"color: #00d7ff; text-decoration-color: #00d7ff\">None</span>, <span style=\"color: #00af00; text-decoration-color: #00af00\">61</span>, <span style=\"color: #00af00; text-decoration-color: #00af00\">61</span>, <span style=\"color: #00af00; text-decoration-color: #00af00\">64</span>)          │          <span style=\"color: #00af00; text-decoration-color: #00af00\">18,496</span> │\n",
              "├──────────────────────────────────────┼─────────────────────────────┼─────────────────┤\n",
              "│ batch_normalization_1                │ (<span style=\"color: #00d7ff; text-decoration-color: #00d7ff\">None</span>, <span style=\"color: #00af00; text-decoration-color: #00af00\">61</span>, <span style=\"color: #00af00; text-decoration-color: #00af00\">61</span>, <span style=\"color: #00af00; text-decoration-color: #00af00\">64</span>)          │             <span style=\"color: #00af00; text-decoration-color: #00af00\">256</span> │\n",
              "│ (<span style=\"color: #0087ff; text-decoration-color: #0087ff\">BatchNormalization</span>)                 │                             │                 │\n",
              "├──────────────────────────────────────┼─────────────────────────────┼─────────────────┤\n",
              "│ max_pooling2d_1 (<span style=\"color: #0087ff; text-decoration-color: #0087ff\">MaxPooling2D</span>)       │ (<span style=\"color: #00d7ff; text-decoration-color: #00d7ff\">None</span>, <span style=\"color: #00af00; text-decoration-color: #00af00\">30</span>, <span style=\"color: #00af00; text-decoration-color: #00af00\">30</span>, <span style=\"color: #00af00; text-decoration-color: #00af00\">64</span>)          │               <span style=\"color: #00af00; text-decoration-color: #00af00\">0</span> │\n",
              "├──────────────────────────────────────┼─────────────────────────────┼─────────────────┤\n",
              "│ conv2d_2 (<span style=\"color: #0087ff; text-decoration-color: #0087ff\">Conv2D</span>)                    │ (<span style=\"color: #00d7ff; text-decoration-color: #00d7ff\">None</span>, <span style=\"color: #00af00; text-decoration-color: #00af00\">28</span>, <span style=\"color: #00af00; text-decoration-color: #00af00\">28</span>, <span style=\"color: #00af00; text-decoration-color: #00af00\">128</span>)         │          <span style=\"color: #00af00; text-decoration-color: #00af00\">73,856</span> │\n",
              "├──────────────────────────────────────┼─────────────────────────────┼─────────────────┤\n",
              "│ batch_normalization_2                │ (<span style=\"color: #00d7ff; text-decoration-color: #00d7ff\">None</span>, <span style=\"color: #00af00; text-decoration-color: #00af00\">28</span>, <span style=\"color: #00af00; text-decoration-color: #00af00\">28</span>, <span style=\"color: #00af00; text-decoration-color: #00af00\">128</span>)         │             <span style=\"color: #00af00; text-decoration-color: #00af00\">512</span> │\n",
              "│ (<span style=\"color: #0087ff; text-decoration-color: #0087ff\">BatchNormalization</span>)                 │                             │                 │\n",
              "├──────────────────────────────────────┼─────────────────────────────┼─────────────────┤\n",
              "│ max_pooling2d_2 (<span style=\"color: #0087ff; text-decoration-color: #0087ff\">MaxPooling2D</span>)       │ (<span style=\"color: #00d7ff; text-decoration-color: #00d7ff\">None</span>, <span style=\"color: #00af00; text-decoration-color: #00af00\">14</span>, <span style=\"color: #00af00; text-decoration-color: #00af00\">14</span>, <span style=\"color: #00af00; text-decoration-color: #00af00\">128</span>)         │               <span style=\"color: #00af00; text-decoration-color: #00af00\">0</span> │\n",
              "├──────────────────────────────────────┼─────────────────────────────┼─────────────────┤\n",
              "│ conv2d_3 (<span style=\"color: #0087ff; text-decoration-color: #0087ff\">Conv2D</span>)                    │ (<span style=\"color: #00d7ff; text-decoration-color: #00d7ff\">None</span>, <span style=\"color: #00af00; text-decoration-color: #00af00\">12</span>, <span style=\"color: #00af00; text-decoration-color: #00af00\">12</span>, <span style=\"color: #00af00; text-decoration-color: #00af00\">256</span>)         │         <span style=\"color: #00af00; text-decoration-color: #00af00\">295,168</span> │\n",
              "├──────────────────────────────────────┼─────────────────────────────┼─────────────────┤\n",
              "│ batch_normalization_3                │ (<span style=\"color: #00d7ff; text-decoration-color: #00d7ff\">None</span>, <span style=\"color: #00af00; text-decoration-color: #00af00\">12</span>, <span style=\"color: #00af00; text-decoration-color: #00af00\">12</span>, <span style=\"color: #00af00; text-decoration-color: #00af00\">256</span>)         │           <span style=\"color: #00af00; text-decoration-color: #00af00\">1,024</span> │\n",
              "│ (<span style=\"color: #0087ff; text-decoration-color: #0087ff\">BatchNormalization</span>)                 │                             │                 │\n",
              "├──────────────────────────────────────┼─────────────────────────────┼─────────────────┤\n",
              "│ max_pooling2d_3 (<span style=\"color: #0087ff; text-decoration-color: #0087ff\">MaxPooling2D</span>)       │ (<span style=\"color: #00d7ff; text-decoration-color: #00d7ff\">None</span>, <span style=\"color: #00af00; text-decoration-color: #00af00\">6</span>, <span style=\"color: #00af00; text-decoration-color: #00af00\">6</span>, <span style=\"color: #00af00; text-decoration-color: #00af00\">256</span>)           │               <span style=\"color: #00af00; text-decoration-color: #00af00\">0</span> │\n",
              "├──────────────────────────────────────┼─────────────────────────────┼─────────────────┤\n",
              "│ global_average_pooling2d             │ (<span style=\"color: #00d7ff; text-decoration-color: #00d7ff\">None</span>, <span style=\"color: #00af00; text-decoration-color: #00af00\">256</span>)                 │               <span style=\"color: #00af00; text-decoration-color: #00af00\">0</span> │\n",
              "│ (<span style=\"color: #0087ff; text-decoration-color: #0087ff\">GlobalAveragePooling2D</span>)             │                             │                 │\n",
              "├──────────────────────────────────────┼─────────────────────────────┼─────────────────┤\n",
              "│ dense (<span style=\"color: #0087ff; text-decoration-color: #0087ff\">Dense</span>)                        │ (<span style=\"color: #00d7ff; text-decoration-color: #00d7ff\">None</span>, <span style=\"color: #00af00; text-decoration-color: #00af00\">128</span>)                 │          <span style=\"color: #00af00; text-decoration-color: #00af00\">32,896</span> │\n",
              "├──────────────────────────────────────┼─────────────────────────────┼─────────────────┤\n",
              "│ dropout (<span style=\"color: #0087ff; text-decoration-color: #0087ff\">Dropout</span>)                    │ (<span style=\"color: #00d7ff; text-decoration-color: #00d7ff\">None</span>, <span style=\"color: #00af00; text-decoration-color: #00af00\">128</span>)                 │               <span style=\"color: #00af00; text-decoration-color: #00af00\">0</span> │\n",
              "├──────────────────────────────────────┼─────────────────────────────┼─────────────────┤\n",
              "│ dense_1 (<span style=\"color: #0087ff; text-decoration-color: #0087ff\">Dense</span>)                      │ (<span style=\"color: #00d7ff; text-decoration-color: #00d7ff\">None</span>, <span style=\"color: #00af00; text-decoration-color: #00af00\">1</span>)                   │             <span style=\"color: #00af00; text-decoration-color: #00af00\">129</span> │\n",
              "└──────────────────────────────────────┴─────────────────────────────┴─────────────────┘\n",
              "</pre>\n"
            ]
          },
          "metadata": {}
        },
        {
          "output_type": "display_data",
          "data": {
            "text/plain": [
              "\u001b[1m Total params: \u001b[0m\u001b[38;5;34m423,361\u001b[0m (1.61 MB)\n"
            ],
            "text/html": [
              "<pre style=\"white-space:pre;overflow-x:auto;line-height:normal;font-family:Menlo,'DejaVu Sans Mono',consolas,'Courier New',monospace\"><span style=\"font-weight: bold\"> Total params: </span><span style=\"color: #00af00; text-decoration-color: #00af00\">423,361</span> (1.61 MB)\n",
              "</pre>\n"
            ]
          },
          "metadata": {}
        },
        {
          "output_type": "display_data",
          "data": {
            "text/plain": [
              "\u001b[1m Trainable params: \u001b[0m\u001b[38;5;34m422,401\u001b[0m (1.61 MB)\n"
            ],
            "text/html": [
              "<pre style=\"white-space:pre;overflow-x:auto;line-height:normal;font-family:Menlo,'DejaVu Sans Mono',consolas,'Courier New',monospace\"><span style=\"font-weight: bold\"> Trainable params: </span><span style=\"color: #00af00; text-decoration-color: #00af00\">422,401</span> (1.61 MB)\n",
              "</pre>\n"
            ]
          },
          "metadata": {}
        },
        {
          "output_type": "display_data",
          "data": {
            "text/plain": [
              "\u001b[1m Non-trainable params: \u001b[0m\u001b[38;5;34m960\u001b[0m (3.75 KB)\n"
            ],
            "text/html": [
              "<pre style=\"white-space:pre;overflow-x:auto;line-height:normal;font-family:Menlo,'DejaVu Sans Mono',consolas,'Courier New',monospace\"><span style=\"font-weight: bold\"> Non-trainable params: </span><span style=\"color: #00af00; text-decoration-color: #00af00\">960</span> (3.75 KB)\n",
              "</pre>\n"
            ]
          },
          "metadata": {}
        }
      ]
    },
    {
      "cell_type": "code",
      "execution_count": null,
      "metadata": {
        "id": "3AEMvCbVGhcI"
      },
      "outputs": [],
      "source": [
        "from keras.models import Sequential\n",
        "from keras.layers import Conv2D, MaxPooling2D, Flatten, Dense, Activation, Dropout\n",
        "from keras.optimizers import Adam\n",
        "\n",
        "image_shape = (128, 128, 3)  # Update this based on your actual image size and channels\n",
        "\n",
        "model = Sequential()\n",
        "model.add(Conv2D(32, (3, 3), activation='relu', input_shape=(128, 128, 3)))\n",
        "model.add(MaxPooling2D((2, 2)))\n",
        "model.add(Conv2D(64, (3, 3), activation='relu'))\n",
        "model.add(MaxPooling2D((2, 2)))\n",
        "model.add(Conv2D(128, (3, 3), activation='relu'))\n",
        "model.add(MaxPooling2D((2, 2)))\n",
        "model.add(Flatten())\n",
        "model.add(Dense(128, activation='relu'))\n",
        "model.add(Dense(1, activation='sigmoid'))\n",
        "\n",
        "optimizer = Adam(learning_rate=0.001)  # Adjust the learning rate\n",
        "model.compile(optimizer=optimizer, loss='binary_crossentropy', metrics=['accuracy'])\n",
        "# model.compile(optimizer='adam', loss='binary_crossentropy', metrics=['accuracy'])\n",
        "\n",
        "# model = Sequential()\n",
        "\n",
        "# model.add(Conv2D(filters=32, kernel_size=(3,3), input_shape=image_shape, activation='relu'))\n",
        "# model.add(MaxPooling2D(pool_size=(2, 2)))\n",
        "\n",
        "# model.add(Conv2D(filters=64, kernel_size=(3,3), input_shape=image_shape, activation='relu'))\n",
        "# model.add(MaxPooling2D(pool_size=(2, 2)))\n",
        "\n",
        "# model.add(Conv2D(filters=64, kernel_size=(3,3), input_shape=image_shape, activation='relu'))\n",
        "# model.add(MaxPooling2D(pool_size=(2, 2)))\n",
        "\n",
        "# model.add(Flatten())\n",
        "\n",
        "# model.add(Dense(128))\n",
        "# model.add(Activation('relu'))\n",
        "\n",
        "# # Dropouts help reduce overfitting by randomly turning neurons off during training.\n",
        "# # Here we say randomly turn off 50% of neurons.\n",
        "# model.add(Dropout(0.5))\n",
        "\n",
        "# # Last layer, remember it's binary so we use sigmoid\n",
        "# model.add(Dense(1))\n",
        "# model.add(Activation('sigmoid'))\n",
        "\n",
        "# model.compile(loss='binary_crossentropy',\n",
        "#               optimizer='adam',\n",
        "#               metrics=['accuracy'])\n",
        "# model.summary()"
      ]
    },
    {
      "cell_type": "markdown",
      "metadata": {
        "id": "t1yKmOrOljkF"
      },
      "source": [
        "#Training the model"
      ]
    },
    {
      "cell_type": "code",
      "source": [
        "from keras.callbacks import ModelCheckpoint, EarlyStopping, ReduceLROnPlateau\n",
        "import matplotlib.pyplot as plt\n",
        "\n",
        "# Define callbacks\n",
        "callbacks = [\n",
        "    # Save the best model based on validation loss\n",
        "    ModelCheckpoint('best_model.keras', save_best_only=True, monitor='val_loss', mode='min'),\n",
        "\n",
        "    # Stop training early if validation loss doesn't improve for 5 epochs\n",
        "    EarlyStopping(patience=5, monitor='val_loss', mode='min', restore_best_weights=True),\n",
        "\n",
        "    # Reduce learning rate when a metric stops improving\n",
        "    ReduceLROnPlateau(monitor='val_loss', factor=0.2, patience=3, min_lr=1e-6)\n",
        "]\n",
        "\n",
        "# Train the model\n",
        "history = model.fit(\n",
        "    train_generator,                   # Training data\n",
        "    validation_data=validation_generator,  # Validation data\n",
        "    epochs=50,                         # Train for up to 50 epochs\n",
        "    callbacks=callbacks                # Use the defined callbacks\n",
        ")\n",
        "\n",
        "# Visualizing the training and validation accuracy\n",
        "plt.figure(figsize=(12, 6))\n",
        "\n",
        "# Plot training and validation accuracy\n",
        "plt.subplot(1, 2, 1)\n",
        "plt.plot(history.history['accuracy'], label='Training Accuracy')\n",
        "plt.plot(history.history['val_accuracy'], label='Validation Accuracy')\n",
        "plt.xlabel('Epochs')\n",
        "plt.ylabel('Accuracy')\n",
        "plt.title('Training vs. Validation Accuracy')\n",
        "plt.legend()\n",
        "\n",
        "# Plot training and validation loss\n",
        "plt.subplot(1, 2, 2)\n",
        "plt.plot(history.history['loss'], label='Training Loss')\n",
        "plt.plot(history.history['val_loss'], label='Validation Loss')\n",
        "plt.xlabel('Epochs')\n",
        "plt.ylabel('Loss')\n",
        "plt.title('Training vs. Validation Loss')\n",
        "plt.legend()\n",
        "\n",
        "# Show the plots\n",
        "plt.tight_layout()\n",
        "plt.show()\n"
      ],
      "metadata": {
        "colab": {
          "base_uri": "https://localhost:8080/",
          "height": 851
        },
        "id": "DedoYwDDcwdB",
        "outputId": "28a06eb5-6aba-4552-ae4f-d548c629d8cb"
      },
      "execution_count": null,
      "outputs": [
        {
          "output_type": "stream",
          "name": "stdout",
          "text": [
            "Epoch 1/50\n"
          ]
        },
        {
          "output_type": "stream",
          "name": "stderr",
          "text": [
            "/usr/local/lib/python3.10/dist-packages/keras/src/trainers/data_adapters/py_dataset_adapter.py:122: UserWarning: Your `PyDataset` class should call `super().__init__(**kwargs)` in its constructor. `**kwargs` can include `workers`, `use_multiprocessing`, `max_queue_size`. Do not pass these arguments to `fit()`, as they will be ignored.\n",
            "  self._warn_if_super_not_called()\n"
          ]
        },
        {
          "output_type": "stream",
          "name": "stdout",
          "text": [
            "\u001b[1m11/11\u001b[0m \u001b[32m━━━━━━━━━━━━━━━━━━━━\u001b[0m\u001b[37m\u001b[0m \u001b[1m30s\u001b[0m 2s/step - accuracy: 0.6065 - loss: 0.7289 - val_accuracy: 0.6145 - val_loss: 0.6873 - learning_rate: 0.0010\n",
            "Epoch 2/50\n",
            "\u001b[1m11/11\u001b[0m \u001b[32m━━━━━━━━━━━━━━━━━━━━\u001b[0m\u001b[37m\u001b[0m \u001b[1m43s\u001b[0m 2s/step - accuracy: 0.7648 - loss: 0.4635 - val_accuracy: 0.5301 - val_loss: 0.6816 - learning_rate: 0.0010\n",
            "Epoch 3/50\n",
            "\u001b[1m11/11\u001b[0m \u001b[32m━━━━━━━━━━━━━━━━━━━━\u001b[0m\u001b[37m\u001b[0m \u001b[1m43s\u001b[0m 2s/step - accuracy: 0.8249 - loss: 0.3839 - val_accuracy: 0.5301 - val_loss: 0.6563 - learning_rate: 0.0010\n",
            "Epoch 4/50\n",
            "\u001b[1m11/11\u001b[0m \u001b[32m━━━━━━━━━━━━━━━━━━━━\u001b[0m\u001b[37m\u001b[0m \u001b[1m25s\u001b[0m 2s/step - accuracy: 0.8695 - loss: 0.3177 - val_accuracy: 0.7831 - val_loss: 0.6403 - learning_rate: 0.0010\n",
            "Epoch 5/50\n",
            "\u001b[1m11/11\u001b[0m \u001b[32m━━━━━━━━━━━━━━━━━━━━\u001b[0m\u001b[37m\u001b[0m \u001b[1m39s\u001b[0m 2s/step - accuracy: 0.8469 - loss: 0.3252 - val_accuracy: 0.4699 - val_loss: 0.7301 - learning_rate: 0.0010\n",
            "Epoch 6/50\n",
            "\u001b[1m11/11\u001b[0m \u001b[32m━━━━━━━━━━━━━━━━━━━━\u001b[0m\u001b[37m\u001b[0m \u001b[1m25s\u001b[0m 2s/step - accuracy: 0.8760 - loss: 0.2950 - val_accuracy: 0.4699 - val_loss: 1.1136 - learning_rate: 0.0010\n",
            "Epoch 7/50\n",
            "\u001b[1m11/11\u001b[0m \u001b[32m━━━━━━━━━━━━━━━━━━━━\u001b[0m\u001b[37m\u001b[0m \u001b[1m25s\u001b[0m 2s/step - accuracy: 0.8769 - loss: 0.2232 - val_accuracy: 0.4699 - val_loss: 1.1583 - learning_rate: 0.0010\n",
            "Epoch 8/50\n",
            "\u001b[1m11/11\u001b[0m \u001b[32m━━━━━━━━━━━━━━━━━━━━\u001b[0m\u001b[37m\u001b[0m \u001b[1m40s\u001b[0m 2s/step - accuracy: 0.9348 - loss: 0.1511 - val_accuracy: 0.4699 - val_loss: 1.2921 - learning_rate: 2.0000e-04\n",
            "Epoch 9/50\n",
            "\u001b[1m11/11\u001b[0m \u001b[32m━━━━━━━━━━━━━━━━━━━━\u001b[0m\u001b[37m\u001b[0m \u001b[1m41s\u001b[0m 2s/step - accuracy: 0.8981 - loss: 0.2688 - val_accuracy: 0.4699 - val_loss: 1.2987 - learning_rate: 2.0000e-04\n"
          ]
        },
        {
          "output_type": "display_data",
          "data": {
            "text/plain": [
              "<Figure size 1200x600 with 2 Axes>"
            ],
            "image/png": "[encoded data removed]"
          },
          "metadata": {}
        }
      ]
    },
    {
      "cell_type": "code",
      "source": [
        "from sklearn.metrics import confusion_matrix, classification_report\n",
        "\n",
        "# Create a list to store true and predicted labels\n",
        "y_true = []\n",
        "y_pred = []\n",
        "\n",
        "# Loop through validation images and predict\n",
        "for filename in os.listdir(validation_folder):\n",
        "    img_path = os.path.join(validation_folder, filename)\n",
        "\n",
        "    # Load and preprocess the image\n",
        "    img = image.load_img(img_path, target_size=(128, 128))\n",
        "    img_array = image.img_to_array(img)\n",
        "    img_array = np.expand_dims(img_array, axis=0)\n",
        "    img_array /= 255.0\n",
        "\n",
        "    # Predict the class\n",
        "    prediction = model.predict(img_array)\n",
        "\n",
        "    # True label: 1 for parasitic, 0 for non-parasitic\n",
        "    y_true.append(1 if 'parasite' in filename else 0)\n",
        "\n",
        "    # Predicted label: 1 for non-parasitic, 0 for parasitic\n",
        "    y_pred.append(1 if prediction[0] >= 0.5 else 0)\n",
        "\n",
        "# Compute confusion matrix and classification report\n",
        "conf_matrix = confusion_matrix(y_true, y_pred)\n",
        "class_report = classification_report(y_true, y_pred)\n",
        "\n",
        "print(\"Confusion Matrix:\")\n",
        "print(conf_matrix)\n",
        "print(\"\\nClassification Report:\")\n",
        "print(class_report)\n"
      ],
      "metadata": {
        "colab": {
          "base_uri": "https://localhost:8080/"
        },
        "id": "Kq8g-eRyg5XO",
        "outputId": "861079a6-b4e5-4b02-b85a-7aff17b14172"
      },
      "execution_count": null,
      "outputs": [
        {
          "output_type": "stream",
          "name": "stdout",
          "text": [
            "\u001b[1m1/1\u001b[0m \u001b[32m━━━━━━━━━━━━━━━━━━━━\u001b[0m\u001b[37m\u001b[0m \u001b[1m0s\u001b[0m 87ms/step\n",
            "\u001b[1m1/1\u001b[0m \u001b[32m━━━━━━━━━━━━━━━━━━━━\u001b[0m\u001b[37m\u001b[0m \u001b[1m0s\u001b[0m 88ms/step\n",
            "\u001b[1m1/1\u001b[0m \u001b[32m━━━━━━━━━━━━━━━━━━━━\u001b[0m\u001b[37m\u001b[0m \u001b[1m0s\u001b[0m 132ms/step\n",
            "\u001b[1m1/1\u001b[0m \u001b[32m━━━━━━━━━━━━━━━━━━━━\u001b[0m\u001b[37m\u001b[0m \u001b[1m0s\u001b[0m 57ms/step\n",
            "\u001b[1m1/1\u001b[0m \u001b[32m━━━━━━━━━━━━━━━━━━━━\u001b[0m\u001b[37m\u001b[0m \u001b[1m0s\u001b[0m 109ms/step\n",
            "\u001b[1m1/1\u001b[0m \u001b[32m━━━━━━━━━━━━━━━━━━━━\u001b[0m\u001b[37m\u001b[0m \u001b[1m0s\u001b[0m 53ms/step\n",
            "\u001b[1m1/1\u001b[0m \u001b[32m━━━━━━━━━━━━━━━━━━━━\u001b[0m\u001b[37m\u001b[0m \u001b[1m0s\u001b[0m 50ms/step\n",
            "\u001b[1m1/1\u001b[0m \u001b[32m━━━━━━━━━━━━━━━━━━━━\u001b[0m\u001b[37m\u001b[0m \u001b[1m0s\u001b[0m 47ms/step\n",
            "\u001b[1m1/1\u001b[0m \u001b[32m━━━━━━━━━━━━━━━━━━━━\u001b[0m\u001b[37m\u001b[0m \u001b[1m0s\u001b[0m 139ms/step\n",
            "\u001b[1m1/1\u001b[0m \u001b[32m━━━━━━━━━━━━━━━━━━━━\u001b[0m\u001b[37m\u001b[0m \u001b[1m0s\u001b[0m 62ms/step\n",
            "\u001b[1m1/1\u001b[0m \u001b[32m━━━━━━━━━━━━━━━━━━━━\u001b[0m\u001b[37m\u001b[0m \u001b[1m0s\u001b[0m 50ms/step\n",
            "\u001b[1m1/1\u001b[0m \u001b[32m━━━━━━━━━━━━━━━━━━━━\u001b[0m\u001b[37m\u001b[0m \u001b[1m0s\u001b[0m 57ms/step\n",
            "\u001b[1m1/1\u001b[0m \u001b[32m━━━━━━━━━━━━━━━━━━━━\u001b[0m\u001b[37m\u001b[0m \u001b[1m0s\u001b[0m 94ms/step\n",
            "\u001b[1m1/1\u001b[0m \u001b[32m━━━━━━━━━━━━━━━━━━━━\u001b[0m\u001b[37m\u001b[0m \u001b[1m0s\u001b[0m 134ms/step\n",
            "\u001b[1m1/1\u001b[0m \u001b[32m━━━━━━━━━━━━━━━━━━━━\u001b[0m\u001b[37m\u001b[0m \u001b[1m0s\u001b[0m 83ms/step\n",
            "\u001b[1m1/1\u001b[0m \u001b[32m━━━━━━━━━━━━━━━━━━━━\u001b[0m\u001b[37m\u001b[0m \u001b[1m0s\u001b[0m 111ms/step\n",
            "\u001b[1m1/1\u001b[0m \u001b[32m━━━━━━━━━━━━━━━━━━━━\u001b[0m\u001b[37m\u001b[0m \u001b[1m0s\u001b[0m 146ms/step\n",
            "\u001b[1m1/1\u001b[0m \u001b[32m━━━━━━━━━━━━━━━━━━━━\u001b[0m\u001b[37m\u001b[0m \u001b[1m0s\u001b[0m 95ms/step\n",
            "\u001b[1m1/1\u001b[0m \u001b[32m━━━━━━━━━━━━━━━━━━━━\u001b[0m\u001b[37m\u001b[0m \u001b[1m0s\u001b[0m 110ms/step\n",
            "\u001b[1m1/1\u001b[0m \u001b[32m━━━━━━━━━━━━━━━━━━━━\u001b[0m\u001b[37m\u001b[0m \u001b[1m0s\u001b[0m 188ms/step\n",
            "\u001b[1m1/1\u001b[0m \u001b[32m━━━━━━━━━━━━━━━━━━━━\u001b[0m\u001b[37m\u001b[0m \u001b[1m0s\u001b[0m 111ms/step\n",
            "\u001b[1m1/1\u001b[0m \u001b[32m━━━━━━━━━━━━━━━━━━━━\u001b[0m\u001b[37m\u001b[0m \u001b[1m0s\u001b[0m 104ms/step\n",
            "\u001b[1m1/1\u001b[0m \u001b[32m━━━━━━━━━━━━━━━━━━━━\u001b[0m\u001b[37m\u001b[0m \u001b[1m0s\u001b[0m 47ms/step\n",
            "\u001b[1m1/1\u001b[0m \u001b[32m━━━━━━━━━━━━━━━━━━━━\u001b[0m\u001b[37m\u001b[0m \u001b[1m0s\u001b[0m 52ms/step\n",
            "\u001b[1m1/1\u001b[0m \u001b[32m━━━━━━━━━━━━━━━━━━━━\u001b[0m\u001b[37m\u001b[0m \u001b[1m0s\u001b[0m 54ms/step\n",
            "\u001b[1m1/1\u001b[0m \u001b[32m━━━━━━━━━━━━━━━━━━━━\u001b[0m\u001b[37m\u001b[0m \u001b[1m0s\u001b[0m 54ms/step\n",
            "\u001b[1m1/1\u001b[0m \u001b[32m━━━━━━━━━━━━━━━━━━━━\u001b[0m\u001b[37m\u001b[0m \u001b[1m0s\u001b[0m 61ms/step\n",
            "\u001b[1m1/1\u001b[0m \u001b[32m━━━━━━━━━━━━━━━━━━━━\u001b[0m\u001b[37m\u001b[0m \u001b[1m0s\u001b[0m 52ms/step\n",
            "\u001b[1m1/1\u001b[0m \u001b[32m━━━━━━━━━━━━━━━━━━━━\u001b[0m\u001b[37m\u001b[0m \u001b[1m0s\u001b[0m 72ms/step\n",
            "\u001b[1m1/1\u001b[0m \u001b[32m━━━━━━━━━━━━━━━━━━━━\u001b[0m\u001b[37m\u001b[0m \u001b[1m0s\u001b[0m 54ms/step\n",
            "\u001b[1m1/1\u001b[0m \u001b[32m━━━━━━━━━━━━━━━━━━━━\u001b[0m\u001b[37m\u001b[0m \u001b[1m0s\u001b[0m 54ms/step\n",
            "\u001b[1m1/1\u001b[0m \u001b[32m━━━━━━━━━━━━━━━━━━━━\u001b[0m\u001b[37m\u001b[0m \u001b[1m0s\u001b[0m 78ms/step\n",
            "\u001b[1m1/1\u001b[0m \u001b[32m━━━━━━━━━━━━━━━━━━━━\u001b[0m\u001b[37m\u001b[0m \u001b[1m0s\u001b[0m 58ms/step\n",
            "\u001b[1m1/1\u001b[0m \u001b[32m━━━━━━━━━━━━━━━━━━━━\u001b[0m\u001b[37m\u001b[0m \u001b[1m0s\u001b[0m 56ms/step\n",
            "\u001b[1m1/1\u001b[0m \u001b[32m━━━━━━━━━━━━━━━━━━━━\u001b[0m\u001b[37m\u001b[0m \u001b[1m0s\u001b[0m 54ms/step\n",
            "\u001b[1m1/1\u001b[0m \u001b[32m━━━━━━━━━━━━━━━━━━━━\u001b[0m\u001b[37m\u001b[0m \u001b[1m0s\u001b[0m 71ms/step\n",
            "\u001b[1m1/1\u001b[0m \u001b[32m━━━━━━━━━━━━━━━━━━━━\u001b[0m\u001b[37m\u001b[0m \u001b[1m0s\u001b[0m 53ms/step\n",
            "\u001b[1m1/1\u001b[0m \u001b[32m━━━━━━━━━━━━━━━━━━━━\u001b[0m\u001b[37m\u001b[0m \u001b[1m0s\u001b[0m 34ms/step\n",
            "\u001b[1m1/1\u001b[0m \u001b[32m━━━━━━━━━━━━━━━━━━━━\u001b[0m\u001b[37m\u001b[0m \u001b[1m0s\u001b[0m 36ms/step\n",
            "\u001b[1m1/1\u001b[0m \u001b[32m━━━━━━━━━━━━━━━━━━━━\u001b[0m\u001b[37m\u001b[0m \u001b[1m0s\u001b[0m 37ms/step\n",
            "\u001b[1m1/1\u001b[0m \u001b[32m━━━━━━━━━━━━━━━━━━━━\u001b[0m\u001b[37m\u001b[0m \u001b[1m0s\u001b[0m 32ms/step\n",
            "\u001b[1m1/1\u001b[0m \u001b[32m━━━━━━━━━━━━━━━━━━━━\u001b[0m\u001b[37m\u001b[0m \u001b[1m0s\u001b[0m 33ms/step\n",
            "\u001b[1m1/1\u001b[0m \u001b[32m━━━━━━━━━━━━━━━━━━━━\u001b[0m\u001b[37m\u001b[0m \u001b[1m0s\u001b[0m 48ms/step\n",
            "\u001b[1m1/1\u001b[0m \u001b[32m━━━━━━━━━━━━━━━━━━━━\u001b[0m\u001b[37m\u001b[0m \u001b[1m0s\u001b[0m 34ms/step\n",
            "\u001b[1m1/1\u001b[0m \u001b[32m━━━━━━━━━━━━━━━━━━━━\u001b[0m\u001b[37m\u001b[0m \u001b[1m0s\u001b[0m 51ms/step\n",
            "\u001b[1m1/1\u001b[0m \u001b[32m━━━━━━━━━━━━━━━━━━━━\u001b[0m\u001b[37m\u001b[0m \u001b[1m0s\u001b[0m 34ms/step\n",
            "\u001b[1m1/1\u001b[0m \u001b[32m━━━━━━━━━━━━━━━━━━━━\u001b[0m\u001b[37m\u001b[0m \u001b[1m0s\u001b[0m 33ms/step\n",
            "\u001b[1m1/1\u001b[0m \u001b[32m━━━━━━━━━━━━━━━━━━━━\u001b[0m\u001b[37m\u001b[0m \u001b[1m0s\u001b[0m 32ms/step\n",
            "\u001b[1m1/1\u001b[0m \u001b[32m━━━━━━━━━━━━━━━━━━━━\u001b[0m\u001b[37m\u001b[0m \u001b[1m0s\u001b[0m 40ms/step\n",
            "\u001b[1m1/1\u001b[0m \u001b[32m━━━━━━━━━━━━━━━━━━━━\u001b[0m\u001b[37m\u001b[0m \u001b[1m0s\u001b[0m 32ms/step\n",
            "\u001b[1m1/1\u001b[0m \u001b[32m━━━━━━━━━━━━━━━━━━━━\u001b[0m\u001b[37m\u001b[0m \u001b[1m0s\u001b[0m 32ms/step\n",
            "\u001b[1m1/1\u001b[0m \u001b[32m━━━━━━━━━━━━━━━━━━━━\u001b[0m\u001b[37m\u001b[0m \u001b[1m0s\u001b[0m 33ms/step\n",
            "\u001b[1m1/1\u001b[0m \u001b[32m━━━━━━━━━━━━━━━━━━━━\u001b[0m\u001b[37m\u001b[0m \u001b[1m0s\u001b[0m 33ms/step\n",
            "\u001b[1m1/1\u001b[0m \u001b[32m━━━━━━━━━━━━━━━━━━━━\u001b[0m\u001b[37m\u001b[0m \u001b[1m0s\u001b[0m 31ms/step\n",
            "\u001b[1m1/1\u001b[0m \u001b[32m━━━━━━━━━━━━━━━━━━━━\u001b[0m\u001b[37m\u001b[0m \u001b[1m0s\u001b[0m 38ms/step\n",
            "\u001b[1m1/1\u001b[0m \u001b[32m━━━━━━━━━━━━━━━━━━━━\u001b[0m\u001b[37m\u001b[0m \u001b[1m0s\u001b[0m 33ms/step\n",
            "\u001b[1m1/1\u001b[0m \u001b[32m━━━━━━━━━━━━━━━━━━━━\u001b[0m\u001b[37m\u001b[0m \u001b[1m0s\u001b[0m 33ms/step\n",
            "\u001b[1m1/1\u001b[0m \u001b[32m━━━━━━━━━━━━━━━━━━━━\u001b[0m\u001b[37m\u001b[0m \u001b[1m0s\u001b[0m 36ms/step\n",
            "\u001b[1m1/1\u001b[0m \u001b[32m━━━━━━━━━━━━━━━━━━━━\u001b[0m\u001b[37m\u001b[0m \u001b[1m0s\u001b[0m 34ms/step\n",
            "\u001b[1m1/1\u001b[0m \u001b[32m━━━━━━━━━━━━━━━━━━━━\u001b[0m\u001b[37m\u001b[0m \u001b[1m0s\u001b[0m 33ms/step\n",
            "\u001b[1m1/1\u001b[0m \u001b[32m━━━━━━━━━━━━━━━━━━━━\u001b[0m\u001b[37m\u001b[0m \u001b[1m0s\u001b[0m 34ms/step\n",
            "\u001b[1m1/1\u001b[0m \u001b[32m━━━━━━━━━━━━━━━━━━━━\u001b[0m\u001b[37m\u001b[0m \u001b[1m0s\u001b[0m 35ms/step\n",
            "\u001b[1m1/1\u001b[0m \u001b[32m━━━━━━━━━━━━━━━━━━━━\u001b[0m\u001b[37m\u001b[0m \u001b[1m0s\u001b[0m 32ms/step\n",
            "\u001b[1m1/1\u001b[0m \u001b[32m━━━━━━━━━━━━━━━━━━━━\u001b[0m\u001b[37m\u001b[0m \u001b[1m0s\u001b[0m 36ms/step\n",
            "\u001b[1m1/1\u001b[0m \u001b[32m━━━━━━━━━━━━━━━━━━━━\u001b[0m\u001b[37m\u001b[0m \u001b[1m0s\u001b[0m 39ms/step\n",
            "\u001b[1m1/1\u001b[0m \u001b[32m━━━━━━━━━━━━━━━━━━━━\u001b[0m\u001b[37m\u001b[0m \u001b[1m0s\u001b[0m 40ms/step\n",
            "\u001b[1m1/1\u001b[0m \u001b[32m━━━━━━━━━━━━━━━━━━━━\u001b[0m\u001b[37m\u001b[0m \u001b[1m0s\u001b[0m 53ms/step\n",
            "\u001b[1m1/1\u001b[0m \u001b[32m━━━━━━━━━━━━━━━━━━━━\u001b[0m\u001b[37m\u001b[0m \u001b[1m0s\u001b[0m 55ms/step\n",
            "\u001b[1m1/1\u001b[0m \u001b[32m━━━━━━━━━━━━━━━━━━━━\u001b[0m\u001b[37m\u001b[0m \u001b[1m0s\u001b[0m 32ms/step\n",
            "\u001b[1m1/1\u001b[0m \u001b[32m━━━━━━━━━━━━━━━━━━━━\u001b[0m\u001b[37m\u001b[0m \u001b[1m0s\u001b[0m 33ms/step\n",
            "\u001b[1m1/1\u001b[0m \u001b[32m━━━━━━━━━━━━━━━━━━━━\u001b[0m\u001b[37m\u001b[0m \u001b[1m0s\u001b[0m 33ms/step\n",
            "\u001b[1m1/1\u001b[0m \u001b[32m━━━━━━━━━━━━━━━━━━━━\u001b[0m\u001b[37m\u001b[0m \u001b[1m0s\u001b[0m 34ms/step\n",
            "\u001b[1m1/1\u001b[0m \u001b[32m━━━━━━━━━━━━━━━━━━━━\u001b[0m\u001b[37m\u001b[0m \u001b[1m0s\u001b[0m 33ms/step\n",
            "\u001b[1m1/1\u001b[0m \u001b[32m━━━━━━━━━━━━━━━━━━━━\u001b[0m\u001b[37m\u001b[0m \u001b[1m0s\u001b[0m 44ms/step\n",
            "\u001b[1m1/1\u001b[0m \u001b[32m━━━━━━━━━━━━━━━━━━━━\u001b[0m\u001b[37m\u001b[0m \u001b[1m0s\u001b[0m 40ms/step\n",
            "\u001b[1m1/1\u001b[0m \u001b[32m━━━━━━━━━━━━━━━━━━━━\u001b[0m\u001b[37m\u001b[0m \u001b[1m0s\u001b[0m 32ms/step\n",
            "\u001b[1m1/1\u001b[0m \u001b[32m━━━━━━━━━━━━━━━━━━━━\u001b[0m\u001b[37m\u001b[0m \u001b[1m0s\u001b[0m 31ms/step\n",
            "\u001b[1m1/1\u001b[0m \u001b[32m━━━━━━━━━━━━━━━━━━━━\u001b[0m\u001b[37m\u001b[0m \u001b[1m0s\u001b[0m 32ms/step\n",
            "\u001b[1m1/1\u001b[0m \u001b[32m━━━━━━━━━━━━━━━━━━━━\u001b[0m\u001b[37m\u001b[0m \u001b[1m0s\u001b[0m 31ms/step\n",
            "\u001b[1m1/1\u001b[0m \u001b[32m━━━━━━━━━━━━━━━━━━━━\u001b[0m\u001b[37m\u001b[0m \u001b[1m0s\u001b[0m 32ms/step\n",
            "\u001b[1m1/1\u001b[0m \u001b[32m━━━━━━━━━━━━━━━━━━━━\u001b[0m\u001b[37m\u001b[0m \u001b[1m0s\u001b[0m 33ms/step\n",
            "\u001b[1m1/1\u001b[0m \u001b[32m━━━━━━━━━━━━━━━━━━━━\u001b[0m\u001b[37m\u001b[0m \u001b[1m0s\u001b[0m 35ms/step\n",
            "\u001b[1m1/1\u001b[0m \u001b[32m━━━━━━━━━━━━━━━━━━━━\u001b[0m\u001b[37m\u001b[0m \u001b[1m0s\u001b[0m 36ms/step\n",
            "\u001b[1m1/1\u001b[0m \u001b[32m━━━━━━━━━━━━━━━━━━━━\u001b[0m\u001b[37m\u001b[0m \u001b[1m0s\u001b[0m 31ms/step\n",
            "\u001b[1m1/1\u001b[0m \u001b[32m━━━━━━━━━━━━━━━━━━━━\u001b[0m\u001b[37m\u001b[0m \u001b[1m0s\u001b[0m 45ms/step\n",
            "\u001b[1m1/1\u001b[0m \u001b[32m━━━━━━━━━━━━━━━━━━━━\u001b[0m\u001b[37m\u001b[0m \u001b[1m0s\u001b[0m 32ms/step\n",
            "\u001b[1m1/1\u001b[0m \u001b[32m━━━━━━━━━━━━━━━━━━━━\u001b[0m\u001b[37m\u001b[0m \u001b[1m0s\u001b[0m 31ms/step\n",
            "\u001b[1m1/1\u001b[0m \u001b[32m━━━━━━━━━━━━━━━━━━━━\u001b[0m\u001b[37m\u001b[0m \u001b[1m0s\u001b[0m 31ms/step\n",
            "\u001b[1m1/1\u001b[0m \u001b[32m━━━━━━━━━━━━━━━━━━━━\u001b[0m\u001b[37m\u001b[0m \u001b[1m0s\u001b[0m 34ms/step\n",
            "\u001b[1m1/1\u001b[0m \u001b[32m━━━━━━━━━━━━━━━━━━━━\u001b[0m\u001b[37m\u001b[0m \u001b[1m0s\u001b[0m 35ms/step\n",
            "\u001b[1m1/1\u001b[0m \u001b[32m━━━━━━━━━━━━━━━━━━━━\u001b[0m\u001b[37m\u001b[0m \u001b[1m0s\u001b[0m 33ms/step\n",
            "\u001b[1m1/1\u001b[0m \u001b[32m━━━━━━━━━━━━━━━━━━━━\u001b[0m\u001b[37m\u001b[0m \u001b[1m0s\u001b[0m 34ms/step\n",
            "\u001b[1m1/1\u001b[0m \u001b[32m━━━━━━━━━━━━━━━━━━━━\u001b[0m\u001b[37m\u001b[0m \u001b[1m0s\u001b[0m 31ms/step\n",
            "\u001b[1m1/1\u001b[0m \u001b[32m━━━━━━━━━━━━━━━━━━━━\u001b[0m\u001b[37m\u001b[0m \u001b[1m0s\u001b[0m 31ms/step\n",
            "\u001b[1m1/1\u001b[0m \u001b[32m━━━━━━━━━━━━━━━━━━━━\u001b[0m\u001b[37m\u001b[0m \u001b[1m0s\u001b[0m 37ms/step\n",
            "\u001b[1m1/1\u001b[0m \u001b[32m━━━━━━━━━━━━━━━━━━━━\u001b[0m\u001b[37m\u001b[0m \u001b[1m0s\u001b[0m 39ms/step\n",
            "\u001b[1m1/1\u001b[0m \u001b[32m━━━━━━━━━━━━━━━━━━━━\u001b[0m\u001b[37m\u001b[0m \u001b[1m0s\u001b[0m 35ms/step\n",
            "\u001b[1m1/1\u001b[0m \u001b[32m━━━━━━━━━━━━━━━━━━━━\u001b[0m\u001b[37m\u001b[0m \u001b[1m0s\u001b[0m 33ms/step\n",
            "\u001b[1m1/1\u001b[0m \u001b[32m━━━━━━━━━━━━━━━━━━━━\u001b[0m\u001b[37m\u001b[0m \u001b[1m0s\u001b[0m 35ms/step\n",
            "\u001b[1m1/1\u001b[0m \u001b[32m━━━━━━━━━━━━━━━━━━━━\u001b[0m\u001b[37m\u001b[0m \u001b[1m0s\u001b[0m 31ms/step\n",
            "\u001b[1m1/1\u001b[0m \u001b[32m━━━━━━━━━━━━━━━━━━━━\u001b[0m\u001b[37m\u001b[0m \u001b[1m0s\u001b[0m 34ms/step\n",
            "\u001b[1m1/1\u001b[0m \u001b[32m━━━━━━━━━━━━━━━━━━━━\u001b[0m\u001b[37m\u001b[0m \u001b[1m0s\u001b[0m 34ms/step\n",
            "\u001b[1m1/1\u001b[0m \u001b[32m━━━━━━━━━━━━━━━━━━━━\u001b[0m\u001b[37m\u001b[0m \u001b[1m0s\u001b[0m 32ms/step\n",
            "\u001b[1m1/1\u001b[0m \u001b[32m━━━━━━━━━━━━━━━━━━━━\u001b[0m\u001b[37m\u001b[0m \u001b[1m0s\u001b[0m 32ms/step\n",
            "\u001b[1m1/1\u001b[0m \u001b[32m━━━━━━━━━━━━━━━━━━━━\u001b[0m\u001b[37m\u001b[0m \u001b[1m0s\u001b[0m 33ms/step\n",
            "\u001b[1m1/1\u001b[0m \u001b[32m━━━━━━━━━━━━━━━━━━━━\u001b[0m\u001b[37m\u001b[0m \u001b[1m0s\u001b[0m 59ms/step\n",
            "\u001b[1m1/1\u001b[0m \u001b[32m━━━━━━━━━━━━━━━━━━━━\u001b[0m\u001b[37m\u001b[0m \u001b[1m0s\u001b[0m 33ms/step\n",
            "\u001b[1m1/1\u001b[0m \u001b[32m━━━━━━━━━━━━━━━━━━━━\u001b[0m\u001b[37m\u001b[0m \u001b[1m0s\u001b[0m 36ms/step\n",
            "\u001b[1m1/1\u001b[0m \u001b[32m━━━━━━━━━━━━━━━━━━━━\u001b[0m\u001b[37m\u001b[0m \u001b[1m0s\u001b[0m 33ms/step\n",
            "\u001b[1m1/1\u001b[0m \u001b[32m━━━━━━━━━━━━━━━━━━━━\u001b[0m\u001b[37m\u001b[0m \u001b[1m0s\u001b[0m 33ms/step\n",
            "\u001b[1m1/1\u001b[0m \u001b[32m━━━━━━━━━━━━━━━━━━━━\u001b[0m\u001b[37m\u001b[0m \u001b[1m0s\u001b[0m 31ms/step\n",
            "\u001b[1m1/1\u001b[0m \u001b[32m━━━━━━━━━━━━━━━━━━━━\u001b[0m\u001b[37m\u001b[0m \u001b[1m0s\u001b[0m 32ms/step\n",
            "\u001b[1m1/1\u001b[0m \u001b[32m━━━━━━━━━━━━━━━━━━━━\u001b[0m\u001b[37m\u001b[0m \u001b[1m0s\u001b[0m 33ms/step\n",
            "Confusion Matrix:\n",
            "[[  8 105]\n",
            " [  0   0]]\n",
            "\n",
            "Classification Report:\n",
            "              precision    recall  f1-score   support\n",
            "\n",
            "           0       1.00      0.07      0.13       113\n",
            "           1       0.00      0.00      0.00         0\n",
            "\n",
            "    accuracy                           0.07       113\n",
            "   macro avg       0.50      0.04      0.07       113\n",
            "weighted avg       1.00      0.07      0.13       113\n",
            "\n"
          ]
        },
        {
          "output_type": "stream",
          "name": "stderr",
          "text": [
            "/usr/local/lib/python3.10/dist-packages/sklearn/metrics/_classification.py:1565: UndefinedMetricWarning: Recall is ill-defined and being set to 0.0 in labels with no true samples. Use `zero_division` parameter to control this behavior.\n",
            "  _warn_prf(average, modifier, f\"{metric.capitalize()} is\", len(result))\n",
            "/usr/local/lib/python3.10/dist-packages/sklearn/metrics/_classification.py:1565: UndefinedMetricWarning: Recall is ill-defined and being set to 0.0 in labels with no true samples. Use `zero_division` parameter to control this behavior.\n",
            "  _warn_prf(average, modifier, f\"{metric.capitalize()} is\", len(result))\n",
            "/usr/local/lib/python3.10/dist-packages/sklearn/metrics/_classification.py:1565: UndefinedMetricWarning: Recall is ill-defined and being set to 0.0 in labels with no true samples. Use `zero_division` parameter to control this behavior.\n",
            "  _warn_prf(average, modifier, f\"{metric.capitalize()} is\", len(result))\n"
          ]
        }
      ]
    },
    {
      "cell_type": "code",
      "source": [
        "from tensorflow.keras.callbacks import ModelCheckpoint, EarlyStopping\n",
        "\n",
        "# Define the callbacks\n",
        "checkpoint_callback = ModelCheckpoint(\n",
        "    'best_model.keras',  # Save the model in Keras format\n",
        "    save_best_only=True,  # Save only the best model based on validation loss\n",
        "    monitor='val_loss',  # Monitor validation loss\n",
        "    mode='min',  # Minimize the validation loss\n",
        "    verbose=1\n",
        ")\n",
        "\n",
        "early_stopping_callback = EarlyStopping(\n",
        "    monitor='val_loss',  # Monitor validation loss\n",
        "    patience=5,  # Stop training if validation loss doesn't improve for 5 epochs\n",
        "    restore_best_weights=True,  # Restore the best weights after training stops\n",
        "    verbose=1\n",
        ")\n",
        "\n",
        "# Step 1: Apply class weights based on the dataset distribution\n",
        "from sklearn.utils import class_weight\n",
        "\n",
        "# Compute class weights\n",
        "class_weights = class_weight.compute_class_weight(\n",
        "    'balanced',\n",
        "    classes=np.unique(train_generator.classes),\n",
        "    y=train_generator.classes\n",
        ")\n",
        "\n",
        "# Convert class weights to a dictionary format\n",
        "class_weight_dict = dict(enumerate(class_weights))\n",
        "\n",
        "# Step 2: Retrain the model with class weights\n",
        "history = model.fit(\n",
        "    train_generator,\n",
        "    epochs=10,  # You can change the number of epochs based on your needs\n",
        "    validation_data=validation_generator,\n",
        "    class_weight=class_weight_dict,\n",
        "    callbacks=[checkpoint_callback, early_stopping_callback]  # Use callbacks\n",
        ")\n",
        "\n",
        "# After training, print training and validation accuracy/loss\n",
        "print(\"Training and Validation history:\", history.history)\n"
      ],
      "metadata": {
        "colab": {
          "base_uri": "https://localhost:8080/"
        },
        "id": "bgCm7C3uhN67",
        "outputId": "fe3abd23-a5d7-4abd-d7b0-98eb01e94914"
      },
      "execution_count": null,
      "outputs": [
        {
          "output_type": "stream",
          "name": "stdout",
          "text": [
            "Epoch 1/10\n",
            "\u001b[1m11/11\u001b[0m \u001b[32m━━━━━━━━━━━━━━━━━━━━\u001b[0m\u001b[37m\u001b[0m \u001b[1m0s\u001b[0m 2s/step - accuracy: 0.8681 - loss: 0.2692\n",
            "Epoch 1: val_loss improved from inf to 0.74454, saving model to best_model.keras\n",
            "\u001b[1m11/11\u001b[0m \u001b[32m━━━━━━━━━━━━━━━━━━━━\u001b[0m\u001b[37m\u001b[0m \u001b[1m31s\u001b[0m 2s/step - accuracy: 0.8678 - loss: 0.2709 - val_accuracy: 0.4699 - val_loss: 0.7445\n",
            "Epoch 2/10\n",
            "\u001b[1m11/11\u001b[0m \u001b[32m━━━━━━━━━━━━━━━━━━━━\u001b[0m\u001b[37m\u001b[0m \u001b[1m0s\u001b[0m 2s/step - accuracy: 0.8902 - loss: 0.2786\n",
            "Epoch 2: val_loss did not improve from 0.74454\n",
            "\u001b[1m11/11\u001b[0m \u001b[32m━━━━━━━━━━━━━━━━━━━━\u001b[0m\u001b[37m\u001b[0m \u001b[1m25s\u001b[0m 2s/step - accuracy: 0.8904 - loss: 0.2784 - val_accuracy: 0.4699 - val_loss: 0.8996\n",
            "Epoch 3/10\n",
            "\u001b[1m11/11\u001b[0m \u001b[32m━━━━━━━━━━━━━━━━━━━━\u001b[0m\u001b[37m\u001b[0m \u001b[1m0s\u001b[0m 2s/step - accuracy: 0.8880 - loss: 0.2624\n",
            "Epoch 3: val_loss did not improve from 0.74454\n",
            "\u001b[1m11/11\u001b[0m \u001b[32m━━━━━━━━━━━━━━━━━━━━\u001b[0m\u001b[37m\u001b[0m \u001b[1m28s\u001b[0m 2s/step - accuracy: 0.8881 - loss: 0.2612 - val_accuracy: 0.4699 - val_loss: 1.1087\n",
            "Epoch 4/10\n",
            "\u001b[1m11/11\u001b[0m \u001b[32m━━━━━━━━━━━━━━━━━━━━\u001b[0m\u001b[37m\u001b[0m \u001b[1m0s\u001b[0m 2s/step - accuracy: 0.8960 - loss: 0.2196\n",
            "Epoch 4: val_loss did not improve from 0.74454\n",
            "\u001b[1m11/11\u001b[0m \u001b[32m━━━━━━━━━━━━━━━━━━━━\u001b[0m\u001b[37m\u001b[0m \u001b[1m39s\u001b[0m 2s/step - accuracy: 0.8962 - loss: 0.2208 - val_accuracy: 0.4699 - val_loss: 1.2120\n",
            "Epoch 5/10\n",
            "\u001b[1m11/11\u001b[0m \u001b[32m━━━━━━━━━━━━━━━━━━━━\u001b[0m\u001b[37m\u001b[0m \u001b[1m0s\u001b[0m 2s/step - accuracy: 0.9429 - loss: 0.1888\n",
            "Epoch 5: val_loss did not improve from 0.74454\n",
            "\u001b[1m11/11\u001b[0m \u001b[32m━━━━━━━━━━━━━━━━━━━━\u001b[0m\u001b[37m\u001b[0m \u001b[1m26s\u001b[0m 2s/step - accuracy: 0.9424 - loss: 0.1885 - val_accuracy: 0.4699 - val_loss: 1.4836\n",
            "Epoch 6/10\n",
            "\u001b[1m11/11\u001b[0m \u001b[32m━━━━━━━━━━━━━━━━━━━━\u001b[0m\u001b[37m\u001b[0m \u001b[1m0s\u001b[0m 2s/step - accuracy: 0.9007 - loss: 0.2488\n",
            "Epoch 6: val_loss did not improve from 0.74454\n",
            "\u001b[1m11/11\u001b[0m \u001b[32m━━━━━━━━━━━━━━━━━━━━\u001b[0m\u001b[37m\u001b[0m \u001b[1m42s\u001b[0m 2s/step - accuracy: 0.9012 - loss: 0.2472 - val_accuracy: 0.4699 - val_loss: 1.5722\n",
            "Epoch 6: early stopping\n",
            "Restoring model weights from the end of the best epoch: 1.\n",
            "Training and Validation history: {'accuracy': [0.8648648858070374, 0.8918918967247009, 0.8888888955116272, 0.8978978991508484, 0.9369369149208069, 0.9069069027900696], 'loss': [0.2895817458629608, 0.2759731709957123, 0.2472456991672516, 0.23435981571674347, 0.18552342057228088, 0.2303067296743393], 'val_accuracy': [0.46987950801849365, 0.46987950801849365, 0.46987950801849365, 0.46987950801849365, 0.46987950801849365, 0.46987950801849365], 'val_loss': [0.7445405721664429, 0.8996400833129883, 1.1087276935577393, 1.2120274305343628, 1.4835857152938843, 1.572244644165039]}\n"
          ]
        }
      ]
    },
    {
      "cell_type": "code",
      "source": [
        "from sklearn.metrics import confusion_matrix, classification_report\n",
        "\n",
        "# Get the true labels and predicted labels for the validation set\n",
        "y_pred = model.predict(validation_generator)\n",
        "y_pred_classes = (y_pred > 0.5).astype(int)\n",
        "\n",
        "# Generate confusion matrix and classification report\n",
        "cm = confusion_matrix(validation_generator.classes, y_pred_classes)\n",
        "print(\"Confusion Matrix:\")\n",
        "print(cm)\n",
        "\n",
        "print(\"\\nClassification Report:\")\n",
        "print(classification_report(validation_generator.classes, y_pred_classes))\n"
      ],
      "metadata": {
        "colab": {
          "base_uri": "https://localhost:8080/"
        },
        "id": "zksk41Ugil7_",
        "outputId": "4c38ac29-28eb-46f9-a5e1-25812d8cacaf"
      },
      "execution_count": null,
      "outputs": [
        {
          "output_type": "stream",
          "name": "stdout",
          "text": [
            "\u001b[1m3/3\u001b[0m \u001b[32m━━━━━━━━━━━━━━━━━━━━\u001b[0m\u001b[37m\u001b[0m \u001b[1m3s\u001b[0m 612ms/step\n",
            "Confusion Matrix:\n",
            "[[ 0 44]\n",
            " [ 0 39]]\n",
            "\n",
            "Classification Report:\n",
            "              precision    recall  f1-score   support\n",
            "\n",
            "           0       0.00      0.00      0.00        44\n",
            "           1       0.47      1.00      0.64        39\n",
            "\n",
            "    accuracy                           0.47        83\n",
            "   macro avg       0.23      0.50      0.32        83\n",
            "weighted avg       0.22      0.47      0.30        83\n",
            "\n"
          ]
        },
        {
          "output_type": "stream",
          "name": "stderr",
          "text": [
            "/usr/local/lib/python3.10/dist-packages/sklearn/metrics/_classification.py:1565: UndefinedMetricWarning: Precision is ill-defined and being set to 0.0 in labels with no predicted samples. Use `zero_division` parameter to control this behavior.\n",
            "  _warn_prf(average, modifier, f\"{metric.capitalize()} is\", len(result))\n",
            "/usr/local/lib/python3.10/dist-packages/sklearn/metrics/_classification.py:1565: UndefinedMetricWarning: Precision is ill-defined and being set to 0.0 in labels with no predicted samples. Use `zero_division` parameter to control this behavior.\n",
            "  _warn_prf(average, modifier, f\"{metric.capitalize()} is\", len(result))\n",
            "/usr/local/lib/python3.10/dist-packages/sklearn/metrics/_classification.py:1565: UndefinedMetricWarning: Precision is ill-defined and being set to 0.0 in labels with no predicted samples. Use `zero_division` parameter to control this behavior.\n",
            "  _warn_prf(average, modifier, f\"{metric.capitalize()} is\", len(result))\n"
          ]
        }
      ]
    },
    {
      "cell_type": "code",
      "source": [
        "from tensorflow.keras.preprocessing import image\n",
        "import os\n",
        "\n",
        "# Path to the validation folder\n",
        "validation_folder = '/content/drive/MyDrive/Dataset/Validation'\n",
        "\n",
        "# Input from user\n",
        "input_id = input(\"Enter the ID of the image file: \")\n",
        "\n",
        "# Check if the file exists in the validation folder\n",
        "file_found = False\n",
        "for filename in os.listdir(validation_folder):\n",
        "    if filename.startswith(input_id):\n",
        "        file_found = True\n",
        "        img_path = os.path.join(validation_folder, filename)\n",
        "\n",
        "        # Load and preprocess the image\n",
        "        img = image.load_img(img_path, target_size=(128, 128))\n",
        "        img_array = image.img_to_array(img)\n",
        "        img_array = np.expand_dims(img_array, axis=0)  # Add batch dimension\n",
        "        img_array /= 255.0  # Normalize the image\n",
        "\n",
        "        # Make prediction\n",
        "        prediction = model.predict(img_array)\n",
        "\n",
        "        # Display the result\n",
        "        if prediction[0, 0] >= 0.5:\n",
        "            print(f\"ID: {input_id}, Non-Parasitic\")\n",
        "        else:\n",
        "            print(f\"ID: {input_id}, Parasitic\")\n",
        "        break\n",
        "\n",
        "# If no image is found with the entered ID\n",
        "if not file_found:\n",
        "    print(f\"No image found with ID: {input_id} in the validation folder.\")\n"
      ],
      "metadata": {
        "colab": {
          "base_uri": "https://localhost:8080/"
        },
        "id": "09z5TKiQiuX2",
        "outputId": "f9492f21-6d21-47a8-ba79-447583ac0f54"
      },
      "execution_count": null,
      "outputs": [
        {
          "output_type": "stream",
          "name": "stdout",
          "text": [
            "Enter the ID of the image file: 4004.png\n",
            "\u001b[1m1/1\u001b[0m \u001b[32m━━━━━━━━━━━━━━━━━━━━\u001b[0m\u001b[37m\u001b[0m \u001b[1m0s\u001b[0m 50ms/step\n",
            "ID: 4004.png, Non-Parasitic\n"
          ]
        }
      ]
    },
    {
      "cell_type": "code",
      "source": [
        "import os\n",
        "import numpy as np\n",
        "from tensorflow.keras.preprocessing import image\n",
        "\n",
        "# Define the validation folder\n",
        "validation_folder = '/content/drive/MyDrive/Dataset/Validation'\n",
        "\n",
        "# Get input ID from user\n",
        "input_id = input(\"Enter the ID of the image file: \")\n",
        "\n",
        "# Initialize the file_found flag\n",
        "file_found = False\n",
        "\n",
        "# Find the corresponding file in the validation folder\n",
        "for filename in os.listdir(validation_folder):\n",
        "    if filename.startswith(input_id):  # Check if the file name starts with input ID\n",
        "        file_found = True\n",
        "        img_path = os.path.join(validation_folder, filename)\n",
        "\n",
        "        # Load and preprocess the image\n",
        "        img = image.load_img(img_path, target_size=(128, 128))\n",
        "        img_array = image.img_to_array(img)\n",
        "        img_array = np.expand_dims(img_array, axis=0)\n",
        "        img_array /= 255.0  # Rescale to [0, 1]\n",
        "\n",
        "        # Predict the class\n",
        "        prediction = model.predict(img_array)\n",
        "\n",
        "        # Print the raw model prediction probability\n",
        "        print(f\"Prediction Probability: {prediction[0]}\")\n",
        "\n",
        "        # Print the result based on prediction\n",
        "        if prediction[0] >= 0.5:\n",
        "            print(f\"ID: {input_id}, Non-Parasitic\")\n",
        "        else:\n",
        "            print(f\"ID: {input_id}, Parasitic\")\n",
        "\n",
        "        break\n",
        "\n",
        "if not file_found:\n",
        "    print(f\"No image found with ID: {input_id} in the validation folder.\")\n"
      ],
      "metadata": {
        "colab": {
          "base_uri": "https://localhost:8080/"
        },
        "id": "DMcHdpc9emTQ",
        "outputId": "ed0fccf8-ff2b-48fc-8a0c-efe7fb692169"
      },
      "execution_count": null,
      "outputs": [
        {
          "output_type": "stream",
          "name": "stdout",
          "text": [
            "Enter the ID of the image file: 33011.png\n",
            "\u001b[1m1/1\u001b[0m \u001b[32m━━━━━━━━━━━━━━━━━━━━\u001b[0m\u001b[37m\u001b[0m \u001b[1m0s\u001b[0m 32ms/step\n",
            "Prediction Probability: [0.5398556]\n",
            "ID: 33011.png, Non-Parasitic\n"
          ]
        }
      ]
    },
    {
      "cell_type": "code",
      "execution_count": null,
      "metadata": {
        "colab": {
          "base_uri": "https://localhost:8080/",
          "height": 376
        },
        "id": "gQZHS2O_llo5",
        "outputId": "4cb2d171-516a-4dda-c166-2ae403227408"
      },
      "outputs": [
        {
          "output_type": "stream",
          "name": "stdout",
          "text": [
            "Epoch 1/10\n"
          ]
        },
        {
          "output_type": "stream",
          "name": "stderr",
          "text": [
            "/usr/local/lib/python3.10/dist-packages/keras/src/trainers/data_adapters/py_dataset_adapter.py:122: UserWarning: Your `PyDataset` class should call `super().__init__(**kwargs)` in its constructor. `**kwargs` can include `workers`, `use_multiprocessing`, `max_queue_size`. Do not pass these arguments to `fit()`, as they will be ignored.\n",
            "  self._warn_if_super_not_called()\n"
          ]
        },
        {
          "output_type": "stream",
          "name": "stdout",
          "text": [
            "\u001b[1m11/11\u001b[0m \u001b[32m━━━━━━━━━━━━━━━━━━━━\u001b[0m\u001b[37m\u001b[0m \u001b[1m0s\u001b[0m 2s/step - accuracy: 0.4817 - loss: 0.8243"
          ]
        },
        {
          "output_type": "error",
          "ename": "ValueError",
          "evalue": "Must provide at least one structure",
          "traceback": [
            "\u001b[0;31m---------------------------------------------------------------------------\u001b[0m",
            "\u001b[0;31mValueError\u001b[0m                                Traceback (most recent call last)",
            "\u001b[0;32m<ipython-input-15-35e91e19e5cd>\u001b[0m in \u001b[0;36m<cell line: 1>\u001b[0;34m()\u001b[0m\n\u001b[0;32m----> 1\u001b[0;31m \u001b[0mhistory\u001b[0m \u001b[0;34m=\u001b[0m \u001b[0mmodel\u001b[0m\u001b[0;34m.\u001b[0m\u001b[0mfit\u001b[0m\u001b[0;34m(\u001b[0m\u001b[0mtrain_generator\u001b[0m\u001b[0;34m,\u001b[0m \u001b[0mepochs\u001b[0m\u001b[0;34m=\u001b[0m\u001b[0;36m10\u001b[0m\u001b[0;34m,\u001b[0m \u001b[0mvalidation_data\u001b[0m\u001b[0;34m=\u001b[0m\u001b[0mvalidation_generator\u001b[0m\u001b[0;34m)\u001b[0m\u001b[0;34m\u001b[0m\u001b[0;34m\u001b[0m\u001b[0m\n\u001b[0m",
            "\u001b[0;32m/usr/local/lib/python3.10/dist-packages/keras/src/utils/traceback_utils.py\u001b[0m in \u001b[0;36merror_handler\u001b[0;34m(*args, **kwargs)\u001b[0m\n\u001b[1;32m    120\u001b[0m             \u001b[0;31m# To get the full stack trace, call:\u001b[0m\u001b[0;34m\u001b[0m\u001b[0;34m\u001b[0m\u001b[0m\n\u001b[1;32m    121\u001b[0m             \u001b[0;31m# `keras.config.disable_traceback_filtering()`\u001b[0m\u001b[0;34m\u001b[0m\u001b[0;34m\u001b[0m\u001b[0m\n\u001b[0;32m--> 122\u001b[0;31m             \u001b[0;32mraise\u001b[0m \u001b[0me\u001b[0m\u001b[0;34m.\u001b[0m\u001b[0mwith_traceback\u001b[0m\u001b[0;34m(\u001b[0m\u001b[0mfiltered_tb\u001b[0m\u001b[0;34m)\u001b[0m \u001b[0;32mfrom\u001b[0m \u001b[0;32mNone\u001b[0m\u001b[0;34m\u001b[0m\u001b[0;34m\u001b[0m\u001b[0m\n\u001b[0m\u001b[1;32m    123\u001b[0m         \u001b[0;32mfinally\u001b[0m\u001b[0;34m:\u001b[0m\u001b[0;34m\u001b[0m\u001b[0;34m\u001b[0m\u001b[0m\n\u001b[1;32m    124\u001b[0m             \u001b[0;32mdel\u001b[0m \u001b[0mfiltered_tb\u001b[0m\u001b[0;34m\u001b[0m\u001b[0;34m\u001b[0m\u001b[0m\n",
            "\u001b[0;32m/usr/local/lib/python3.10/dist-packages/keras/src/tree/optree_impl.py\u001b[0m in \u001b[0;36mmap_structure\u001b[0;34m(func, *structures)\u001b[0m\n\u001b[1;32m     74\u001b[0m         \u001b[0;32mraise\u001b[0m \u001b[0mTypeError\u001b[0m\u001b[0;34m(\u001b[0m\u001b[0;34mf\"`func` must be callable. Received: func={func}\"\u001b[0m\u001b[0;34m)\u001b[0m\u001b[0;34m\u001b[0m\u001b[0;34m\u001b[0m\u001b[0m\n\u001b[1;32m     75\u001b[0m     \u001b[0;32mif\u001b[0m \u001b[0;32mnot\u001b[0m \u001b[0mstructures\u001b[0m\u001b[0;34m:\u001b[0m\u001b[0;34m\u001b[0m\u001b[0;34m\u001b[0m\u001b[0m\n\u001b[0;32m---> 76\u001b[0;31m         \u001b[0;32mraise\u001b[0m \u001b[0mValueError\u001b[0m\u001b[0;34m(\u001b[0m\u001b[0;34m\"Must provide at least one structure\"\u001b[0m\u001b[0;34m)\u001b[0m\u001b[0;34m\u001b[0m\u001b[0;34m\u001b[0m\u001b[0m\n\u001b[0m\u001b[1;32m     77\u001b[0m     \u001b[0;32mfor\u001b[0m \u001b[0mother\u001b[0m \u001b[0;32min\u001b[0m \u001b[0mstructures\u001b[0m\u001b[0;34m[\u001b[0m\u001b[0;36m1\u001b[0m\u001b[0;34m:\u001b[0m\u001b[0;34m]\u001b[0m\u001b[0;34m:\u001b[0m\u001b[0;34m\u001b[0m\u001b[0;34m\u001b[0m\u001b[0m\n\u001b[1;32m     78\u001b[0m         \u001b[0massert_same_structure\u001b[0m\u001b[0;34m(\u001b[0m\u001b[0mstructures\u001b[0m\u001b[0;34m[\u001b[0m\u001b[0;36m0\u001b[0m\u001b[0;34m]\u001b[0m\u001b[0;34m,\u001b[0m \u001b[0mother\u001b[0m\u001b[0;34m,\u001b[0m \u001b[0mcheck_types\u001b[0m\u001b[0;34m=\u001b[0m\u001b[0;32mFalse\u001b[0m\u001b[0;34m)\u001b[0m\u001b[0;34m\u001b[0m\u001b[0;34m\u001b[0m\u001b[0m\n",
            "\u001b[0;31mValueError\u001b[0m: Must provide at least one structure"
          ]
        }
      ],
      "source": [
        "history = model.fit(train_generator, epochs=10, validation_data=validation_generator)"
      ]
    },
    {
      "cell_type": "markdown",
      "metadata": {
        "id": "jbIM7NAryt0-"
      },
      "source": [
        "#Model Evaluation"
      ]
    },
    {
      "cell_type": "code",
      "execution_count": null,
      "metadata": {
        "colab": {
          "base_uri": "https://localhost:8080/",
          "height": 927
        },
        "id": "iyIeaj6lYNT8",
        "outputId": "7e4ac309-962b-4f36-b39f-a01f37bfd0dc"
      },
      "outputs": [
        {
          "output_type": "display_data",
          "data": {
            "text/plain": [
              "<Figure size 640x480 with 1 Axes>"
            ],
            "image/png": "[encoded data removed]"
          },
          "metadata": {}
        },
        {
          "output_type": "display_data",
          "data": {
            "text/plain": [
              "<Figure size 640x480 with 1 Axes>"
            ],
            "image/png": "[encoded data removed]"
          },
          "metadata": {}
        }
      ],
      "source": [
        "import matplotlib.pyplot as plt\n",
        "\n",
        "# Plot training and validation accuracy\n",
        "plt.plot(history.history['accuracy'], label='Training Accuracy')\n",
        "if 'val_accuracy' in history.history:\n",
        "    plt.plot(history.history['val_accuracy'], label='Validation Accuracy')\n",
        "plt.xlabel('Epochs')\n",
        "plt.ylabel('Accuracy')\n",
        "plt.title('Training and Validation Accuracy')\n",
        "plt.legend()\n",
        "plt.show()\n",
        "\n",
        "# Plot training and validation loss\n",
        "plt.plot(history.history['loss'], label='Training Loss')\n",
        "if 'val_loss' in history.history:\n",
        "    plt.plot(history.history['val_loss'], label='Validation Loss')\n",
        "plt.xlabel('Epochs')\n",
        "plt.ylabel('Loss')\n",
        "plt.title('Training and Validation Loss')\n",
        "plt.legend()\n",
        "plt.show()\n"
      ]
    },
    {
      "cell_type": "markdown",
      "metadata": {
        "id": "2l2TnwPtcSRG"
      },
      "source": [
        "# Result Analysis - Testing\n"
      ]
    },
    {
      "cell_type": "code",
      "execution_count": null,
      "metadata": {
        "colab": {
          "base_uri": "https://localhost:8080/"
        },
        "id": "OTwcesobcR62",
        "outputId": "212fc90a-b510-4375-a9e1-75d3ca3b7b2a"
      },
      "outputs": [
        {
          "output_type": "stream",
          "name": "stdout",
          "text": [
            "Enter the ID of the image file: 4001.png\n",
            "1/1 [==============================] - 0s 53ms/step\n",
            "ID: 4001.png, Non-Parasitic\n"
          ]
        }
      ],
      "source": [
        "import os\n",
        "import numpy as np\n",
        "from tensorflow.keras.preprocessing import image\n",
        "\n",
        "validation_folder = '/content/drive/MyDrive/Dataset/Validation'\n",
        "\n",
        "# Get input ID from user\n",
        "input_id = input(\"Enter the ID of the image file: \")\n",
        "\n",
        "# Find the corresponding file in the validation folder\n",
        "file_found = False\n",
        "for filename in os.listdir(validation_folder):\n",
        "    if filename.startswith(input_id):\n",
        "        file_found = True\n",
        "        img_path = os.path.join(validation_folder, filename)\n",
        "\n",
        "        img = image.load_img(img_path, target_size=(128, 128))\n",
        "        img_array = image.img_to_array(img)\n",
        "        img_array = np.expand_dims(img_array, axis=0)\n",
        "        img_array /= 255.0\n",
        "\n",
        "        prediction = model.predict(img_array)\n",
        "\n",
        "        if prediction[0, 0] >= 0.5:\n",
        "            print(f\"ID: {input_id}, Non-Parasitic\")\n",
        "        elif prediction[0,0] <=0.5:\n",
        "            print(f\"ID: {input_id}, Parasitic\")\n",
        "        else:\n",
        "            print(f\"ID: {input_id}, No image found with ID: {input_id}\")\n",
        "\n",
        "        break\n",
        "\n",
        "if not file_found:\n",
        "    print(f\"No image found with ID: {input_id} in the validation folder.\")"
      ]
    },
    {
      "cell_type": "code",
      "execution_count": null,
      "metadata": {
        "colab": {
          "base_uri": "https://localhost:8080/"
        },
        "id": "hri-BVmQiCMw",
        "outputId": "19cbc13b-5c96-4ffd-bc55-7eb0d2437215"
      },
      "outputs": [
        {
          "output_type": "stream",
          "name": "stdout",
          "text": [
            "1/1 [==============================] - 0s 31ms/step\n",
            "ID: 4001.png, Non-Parasitic\n",
            "1/1 [==============================] - 0s 30ms/step\n",
            "ID: 4002.png, Non-Parasitic\n",
            "1/1 [==============================] - 0s 29ms/step\n",
            "ID: 4003.png, Non-Parasitic\n",
            "1/1 [==============================] - 0s 34ms/step\n",
            "ID: 4004.png, Non-Parasitic\n",
            "1/1 [==============================] - 0s 31ms/step\n",
            "ID: 4005.png, Non-Parasitic\n",
            "1/1 [==============================] - 0s 35ms/step\n",
            "ID: 4006.png, Non-Parasitic\n",
            "1/1 [==============================] - 0s 33ms/step\n",
            "ID: 4007.png, Non-Parasitic\n",
            "1/1 [==============================] - 0s 30ms/step\n",
            "ID: 4008.png, Non-Parasitic\n",
            "1/1 [==============================] - 0s 32ms/step\n",
            "ID: 4009.png, Non-Parasitic\n",
            "1/1 [==============================] - 0s 30ms/step\n",
            "ID: 4010.png, Non-Parasitic\n",
            "1/1 [==============================] - 0s 32ms/step\n",
            "ID: 4011.png, Parasitic\n",
            "1/1 [==============================] - 0s 28ms/step\n",
            "ID: 4012.png, Non-Parasitic\n",
            "1/1 [==============================] - 0s 27ms/step\n",
            "ID: 4013.png, Parasitic\n",
            "1/1 [==============================] - 0s 29ms/step\n",
            "ID: 4014.png, Non-Parasitic\n",
            "1/1 [==============================] - 0s 34ms/step\n",
            "ID: 4015.png, Non-Parasitic\n",
            "1/1 [==============================] - 0s 27ms/step\n",
            "ID: 4016.png, Parasitic\n",
            "1/1 [==============================] - 0s 28ms/step\n",
            "ID: 4017.png, Non-Parasitic\n",
            "1/1 [==============================] - 0s 28ms/step\n",
            "ID: 4018.png, Non-Parasitic\n",
            "1/1 [==============================] - 0s 31ms/step\n",
            "ID: 4019.png, Non-Parasitic\n",
            "1/1 [==============================] - 0s 29ms/step\n",
            "ID: 4020.png, Parasitic\n",
            "1/1 [==============================] - 0s 29ms/step\n",
            "ID: 4021.png, Non-Parasitic\n",
            "1/1 [==============================] - 0s 32ms/step\n",
            "ID: 4022.png, Non-Parasitic\n",
            "1/1 [==============================] - 0s 35ms/step\n",
            "ID: 4023.png, Non-Parasitic\n",
            "1/1 [==============================] - 0s 33ms/step\n",
            "ID: 4024.png, Parasitic\n",
            "1/1 [==============================] - 0s 31ms/step\n",
            "ID: 4025.png, Non-Parasitic\n",
            "1/1 [==============================] - 0s 32ms/step\n",
            "ID: 4026.png, Non-Parasitic\n",
            "1/1 [==============================] - 0s 37ms/step\n",
            "ID: 4027.png, Non-Parasitic\n",
            "1/1 [==============================] - 0s 34ms/step\n",
            "ID: 4028.png, Non-Parasitic\n",
            "1/1 [==============================] - 0s 39ms/step\n",
            "ID: 4029.png, Non-Parasitic\n",
            "1/1 [==============================] - 0s 35ms/step\n",
            "ID: 4030.png, Non-Parasitic\n",
            "1/1 [==============================] - 0s 33ms/step\n",
            "ID: 4031.png, Non-Parasitic\n",
            "1/1 [==============================] - 0s 31ms/step\n",
            "ID: 4032.png, Non-Parasitic\n",
            "1/1 [==============================] - 0s 29ms/step\n",
            "ID: 4033.png, Non-Parasitic\n",
            "1/1 [==============================] - 0s 31ms/step\n",
            "ID: 4034.png, Parasitic\n",
            "1/1 [==============================] - 0s 28ms/step\n",
            "ID: 4035.png, Non-Parasitic\n",
            "1/1 [==============================] - 0s 30ms/step\n",
            "ID: 4036.png, Non-Parasitic\n",
            "1/1 [==============================] - 0s 30ms/step\n",
            "ID: 4037.png, Non-Parasitic\n",
            "1/1 [==============================] - 0s 28ms/step\n",
            "ID: 4038.png, Parasitic\n",
            "1/1 [==============================] - 0s 30ms/step\n",
            "ID: 4039.png, Non-Parasitic\n",
            "1/1 [==============================] - 0s 33ms/step\n",
            "ID: 4040.png, Non-Parasitic\n",
            "1/1 [==============================] - 0s 28ms/step\n",
            "ID: 4041.png, Non-Parasitic\n",
            "1/1 [==============================] - 0s 31ms/step\n",
            "ID: 4042.png, Non-Parasitic\n",
            "1/1 [==============================] - 0s 31ms/step\n",
            "ID: 4043.png, Parasitic\n",
            "1/1 [==============================] - 0s 32ms/step\n",
            "ID: 33001.png, Parasitic\n",
            "1/1 [==============================] - 0s 30ms/step\n",
            "ID: 33002.png, Non-Parasitic\n",
            "1/1 [==============================] - 0s 45ms/step\n",
            "ID: 33003.png, Non-Parasitic\n",
            "1/1 [==============================] - 0s 36ms/step\n",
            "ID: 33004.png, Non-Parasitic\n",
            "1/1 [==============================] - 0s 34ms/step\n",
            "ID: 33005.png, Non-Parasitic\n",
            "1/1 [==============================] - 0s 31ms/step\n",
            "ID: 33006.png, Non-Parasitic\n",
            "1/1 [==============================] - 0s 31ms/step\n",
            "ID: 33007.png, Non-Parasitic\n",
            "1/1 [==============================] - 0s 32ms/step\n",
            "ID: 33008.png, Non-Parasitic\n",
            "1/1 [==============================] - 0s 30ms/step\n",
            "ID: 33009.png, Non-Parasitic\n",
            "1/1 [==============================] - 0s 33ms/step\n",
            "ID: 33010.png, Non-Parasitic\n",
            "1/1 [==============================] - 0s 34ms/step\n",
            "ID: 33011.png, Non-Parasitic\n",
            "1/1 [==============================] - 0s 35ms/step\n",
            "ID: 33012.png, Non-Parasitic\n",
            "1/1 [==============================] - 0s 56ms/step\n",
            "ID: 33013.png, Non-Parasitic\n",
            "1/1 [==============================] - 0s 37ms/step\n",
            "ID: 33014.png, Non-Parasitic\n",
            "1/1 [==============================] - 0s 38ms/step\n",
            "ID: 33015.png, Non-Parasitic\n",
            "1/1 [==============================] - 0s 36ms/step\n",
            "ID: 33016.png, Non-Parasitic\n",
            "1/1 [==============================] - 0s 35ms/step\n",
            "ID: 33017.png, Non-Parasitic\n",
            "1/1 [==============================] - 0s 40ms/step\n",
            "ID: 33018.png, Non-Parasitic\n",
            "1/1 [==============================] - 0s 36ms/step\n",
            "ID: 33019.png, Non-Parasitic\n",
            "1/1 [==============================] - 0s 32ms/step\n",
            "ID: 33020.png, Non-Parasitic\n",
            "1/1 [==============================] - 0s 37ms/step\n",
            "ID: 33021.png, Non-Parasitic\n",
            "1/1 [==============================] - 0s 34ms/step\n",
            "ID: 33022.png, Parasitic\n",
            "1/1 [==============================] - 0s 35ms/step\n",
            "ID: 33023.png, Non-Parasitic\n",
            "1/1 [==============================] - 0s 35ms/step\n",
            "ID: 33024.png, Non-Parasitic\n",
            "1/1 [==============================] - 0s 33ms/step\n",
            "ID: 33025.png, Non-Parasitic\n",
            "1/1 [==============================] - 0s 52ms/step\n",
            "ID: 33026.png, Parasitic\n",
            "1/1 [==============================] - 0s 51ms/step\n",
            "ID: 33027.png, Non-Parasitic\n",
            "1/1 [==============================] - 0s 56ms/step\n",
            "ID: 33028.png, Non-Parasitic\n",
            "1/1 [==============================] - 0s 45ms/step\n",
            "ID: 33029.png, Non-Parasitic\n",
            "1/1 [==============================] - 0s 50ms/step\n",
            "ID: 33030.png, Non-Parasitic\n",
            "1/1 [==============================] - 0s 56ms/step\n",
            "ID: 33031.png, Non-Parasitic\n",
            "1/1 [==============================] - 0s 53ms/step\n",
            "ID: 33032.png, Non-Parasitic\n",
            "1/1 [==============================] - 0s 52ms/step\n",
            "ID: 33033.png, Non-Parasitic\n",
            "1/1 [==============================] - 0s 55ms/step\n",
            "ID: 33034.png, Non-Parasitic\n",
            "1/1 [==============================] - 0s 49ms/step\n",
            "ID: 33035.png, Parasitic\n",
            "1/1 [==============================] - 0s 66ms/step\n",
            "ID: 33036.png, Non-Parasitic\n",
            "1/1 [==============================] - 0s 47ms/step\n",
            "ID: 33037.png, Non-Parasitic\n",
            "1/1 [==============================] - 0s 49ms/step\n",
            "ID: 33038.png, Non-Parasitic\n",
            "1/1 [==============================] - 0s 46ms/step\n",
            "ID: 33039.png, Non-Parasitic\n",
            "1/1 [==============================] - 0s 46ms/step\n",
            "ID: 33040.png, Non-Parasitic\n",
            "1/1 [==============================] - 0s 49ms/step\n",
            "ID: 33041.png, Parasitic\n",
            "1/1 [==============================] - 0s 51ms/step\n",
            "ID: 33042.png, Non-Parasitic\n",
            "1/1 [==============================] - 0s 53ms/step\n",
            "ID: 33043.png, Non-Parasitic\n",
            "1/1 [==============================] - 0s 52ms/step\n",
            "ID: 33044.png, Non-Parasitic\n",
            "1/1 [==============================] - 0s 53ms/step\n",
            "ID: 33045.png, Non-Parasitic\n",
            "1/1 [==============================] - 0s 43ms/step\n",
            "ID: 33046.png, Non-Parasitic\n",
            "1/1 [==============================] - 0s 52ms/step\n",
            "ID: 33047.png, Non-Parasitic\n",
            "1/1 [==============================] - 0s 49ms/step\n",
            "ID: 33048.png, Non-Parasitic\n",
            "1/1 [==============================] - 0s 55ms/step\n",
            "ID: 33049.png, Non-Parasitic\n",
            "1/1 [==============================] - 0s 31ms/step\n",
            "ID: 33050.png, Non-Parasitic\n",
            "1/1 [==============================] - 0s 33ms/step\n",
            "ID: 33051.png, Non-Parasitic\n",
            "1/1 [==============================] - 0s 30ms/step\n",
            "ID: 33052.png, Parasitic\n",
            "1/1 [==============================] - 0s 32ms/step\n",
            "ID: 33053.png, Non-Parasitic\n",
            "1/1 [==============================] - 0s 32ms/step\n",
            "ID: 33054.png, Parasitic\n",
            "1/1 [==============================] - 0s 38ms/step\n",
            "ID: 33055.png, Parasitic\n",
            "1/1 [==============================] - 0s 36ms/step\n",
            "ID: 33056.png, Non-Parasitic\n",
            "1/1 [==============================] - 0s 38ms/step\n",
            "ID: 33057.png, Non-Parasitic\n",
            "1/1 [==============================] - 0s 34ms/step\n",
            "ID: 33058.png, Non-Parasitic\n",
            "1/1 [==============================] - 0s 33ms/step\n",
            "ID: 33059.png, Non-Parasitic\n",
            "1/1 [==============================] - 0s 35ms/step\n",
            "ID: 33060.png, Non-Parasitic\n",
            "1/1 [==============================] - 0s 36ms/step\n",
            "ID: 33061.png, Non-Parasitic\n",
            "1/1 [==============================] - 0s 33ms/step\n",
            "ID: 33062.png, Non-Parasitic\n",
            "1/1 [==============================] - 0s 30ms/step\n",
            "ID: 33063.png, Non-Parasitic\n",
            "1/1 [==============================] - 0s 29ms/step\n",
            "ID: 33064.png, Non-Parasitic\n",
            "1/1 [==============================] - 0s 31ms/step\n",
            "ID: 33065.png, Parasitic\n",
            "1/1 [==============================] - 0s 30ms/step\n",
            "ID: 33066.png, Non-Parasitic\n",
            "1/1 [==============================] - 0s 29ms/step\n",
            "ID: 33067.png, Non-Parasitic\n",
            "1/1 [==============================] - 0s 29ms/step\n",
            "ID: 33068.png, Non-Parasitic\n",
            "1/1 [==============================] - 0s 28ms/step\n",
            "ID: 33069.png, Parasitic\n",
            "1/1 [==============================] - 0s 28ms/step\n",
            "ID: 33070.png, Parasitic\n"
          ]
        }
      ],
      "source": [
        "import os\n",
        "import numpy as np\n",
        "from tensorflow.keras.preprocessing import image\n",
        "\n",
        "validation_folder = '/content/drive/MyDrive/Dataset/Validation'\n",
        "\n",
        "# Iterate over each file in the validation folder\n",
        "for filename in os.listdir(validation_folder):\n",
        "    img_path = os.path.join(validation_folder, filename)\n",
        "\n",
        "    # Load and preprocess the image\n",
        "    img = image.load_img(img_path, target_size=(128, 128))\n",
        "    img_array = image.img_to_array(img)\n",
        "    img_array = np.expand_dims(img_array, axis=0)\n",
        "    img_array /= 255.0\n",
        "\n",
        "    # Predict using the model\n",
        "    prediction = model.predict(img_array)\n",
        "\n",
        "    # Determine the class based on the prediction\n",
        "    if prediction[0, 0] >= 0.5:\n",
        "        print(f\"ID: {filename}, Non-Parasitic\")\n",
        "    elif prediction[0, 0] < 0.5:\n",
        "        print(f\"ID: {filename}, Parasitic\")\n",
        "    else:\n",
        "        print(f\"ID: {filename}, Unknown\")\n",
        "\n"
      ]
    },
    {
      "cell_type": "code",
      "execution_count": null,
      "metadata": {
        "colab": {
          "base_uri": "https://localhost:8080/",
          "height": 125
        },
        "id": "UQBECOLov4oF",
        "outputId": "11608629-8d84-42e7-c064-4e4f8d3250df"
      },
      "outputs": [
        {
          "name": "stdout",
          "output_type": "stream",
          "text": [
            "Enter the ID of the image file: 4001.png\n",
            "1/1 [==============================] - 0s 28ms/step\n"
          ]
        },
        {
          "data": {
            "text/html": [
              "<h2>Prediction</h2><p>Result for ID 4001.png: Parasitic</p>"
            ],
            "text/plain": [
              "<IPython.core.display.HTML object>"
            ]
          },
          "metadata": {},
          "output_type": "display_data"
        }
      ],
      "source": [
        "4import os\n",
        "import numpy as np\n",
        "from tensorflow.keras.preprocessing import image\n",
        "from IPython.display import display, HTML\n",
        "\n",
        "validation_folder = '/content/drive/MyDrive/Dataset/Validation'\n",
        "\n",
        "# Get input ID from user\n",
        "input_id = input(\"Enter the ID of the image file: \")\n",
        "\n",
        "# Find the corresponding file in the validation folder\n",
        "file_found = False\n",
        "for filename in os.listdir(validation_folder):\n",
        "    if filename.startswith(input_id):\n",
        "        file_found = True\n",
        "        img_path = os.path.join(validation_folder, filename)\n",
        "\n",
        "        img = image.load_img(img_path, target_size=(128, 128))\n",
        "        img_array = image.img_to_array(img)\n",
        "        img_array = np.expand_dims(img_array, axis=0)\n",
        "        img_array /= 255.0\n",
        "\n",
        "        prediction = model.predict(img_array)\n",
        "\n",
        "        if prediction[0, 0] >= 0.5:\n",
        "            result = \"Non-Parasitic\"\n",
        "        else:\n",
        "            result = \"Parasitic\"\n",
        "\n",
        "        # Display the result in HTML format\n",
        "        display(HTML(f\"<h2>Prediction</h2><p>Result for ID {input_id}: {result}</p>\"))\n",
        "\n",
        "        break\n",
        "\n",
        "if not file_found:\n",
        "    print(f\"No image found with ID: {input_id} in the validation folder.\")\n"
      ]
    },
    {
      "cell_type": "markdown",
      "metadata": {
        "id": "AoZAUUpUxDDR"
      },
      "source": [
        "#Accuracy\n",
        "\n"
      ]
    },
    {
      "cell_type": "code",
      "execution_count": null,
      "metadata": {
        "colab": {
          "base_uri": "https://localhost:8080/"
        },
        "id": "AYslIaoptnvw",
        "outputId": "c57ae5be-2aee-4797-ab7e-db4383d866ac"
      },
      "outputs": [
        {
          "output_type": "stream",
          "name": "stdout",
          "text": [
            "1/1 [==============================] - 0s 33ms/step\n",
            "1/1 [==============================] - 0s 31ms/step\n",
            "1/1 [==============================] - 0s 31ms/step\n",
            "1/1 [==============================] - 0s 31ms/step\n",
            "1/1 [==============================] - 0s 30ms/step\n",
            "1/1 [==============================] - 0s 29ms/step\n",
            "1/1 [==============================] - 0s 28ms/step\n",
            "1/1 [==============================] - 0s 37ms/step\n",
            "1/1 [==============================] - 0s 30ms/step\n",
            "1/1 [==============================] - 0s 44ms/step\n",
            "1/1 [==============================] - 0s 28ms/step\n",
            "1/1 [==============================] - 0s 28ms/step\n",
            "1/1 [==============================] - 0s 29ms/step\n",
            "1/1 [==============================] - 0s 31ms/step\n",
            "1/1 [==============================] - 0s 32ms/step\n",
            "1/1 [==============================] - 0s 32ms/step\n",
            "1/1 [==============================] - 0s 32ms/step\n",
            "1/1 [==============================] - 0s 37ms/step\n",
            "1/1 [==============================] - 0s 31ms/step\n",
            "1/1 [==============================] - 0s 31ms/step\n",
            "1/1 [==============================] - 0s 33ms/step\n",
            "1/1 [==============================] - 0s 38ms/step\n",
            "1/1 [==============================] - 0s 33ms/step\n",
            "1/1 [==============================] - 0s 32ms/step\n",
            "1/1 [==============================] - 0s 32ms/step\n",
            "1/1 [==============================] - 0s 29ms/step\n",
            "1/1 [==============================] - 0s 28ms/step\n",
            "1/1 [==============================] - 0s 28ms/step\n",
            "1/1 [==============================] - 0s 30ms/step\n",
            "1/1 [==============================] - 0s 28ms/step\n",
            "1/1 [==============================] - 0s 28ms/step\n",
            "1/1 [==============================] - 0s 29ms/step\n",
            "1/1 [==============================] - 0s 28ms/step\n",
            "1/1 [==============================] - 0s 28ms/step\n",
            "1/1 [==============================] - 0s 27ms/step\n",
            "1/1 [==============================] - 0s 30ms/step\n",
            "1/1 [==============================] - 0s 32ms/step\n",
            "1/1 [==============================] - 0s 31ms/step\n",
            "1/1 [==============================] - 0s 31ms/step\n",
            "1/1 [==============================] - 0s 33ms/step\n",
            "1/1 [==============================] - 0s 34ms/step\n",
            "1/1 [==============================] - 0s 37ms/step\n",
            "1/1 [==============================] - 0s 35ms/step\n",
            "1/1 [==============================] - 0s 34ms/step\n",
            "1/1 [==============================] - 0s 51ms/step\n",
            "1/1 [==============================] - 0s 50ms/step\n",
            "1/1 [==============================] - 0s 55ms/step\n",
            "1/1 [==============================] - 0s 59ms/step\n",
            "1/1 [==============================] - 0s 64ms/step\n",
            "1/1 [==============================] - 0s 46ms/step\n",
            "1/1 [==============================] - 0s 45ms/step\n",
            "1/1 [==============================] - 0s 57ms/step\n",
            "1/1 [==============================] - 0s 55ms/step\n",
            "1/1 [==============================] - 0s 56ms/step\n",
            "1/1 [==============================] - 0s 48ms/step\n",
            "1/1 [==============================] - 0s 67ms/step\n",
            "1/1 [==============================] - 0s 48ms/step\n",
            "1/1 [==============================] - 0s 44ms/step\n",
            "1/1 [==============================] - 0s 50ms/step\n",
            "1/1 [==============================] - 0s 48ms/step\n",
            "1/1 [==============================] - 0s 58ms/step\n",
            "1/1 [==============================] - 0s 62ms/step\n",
            "1/1 [==============================] - 0s 55ms/step\n",
            "1/1 [==============================] - 0s 51ms/step\n",
            "1/1 [==============================] - 0s 46ms/step\n",
            "1/1 [==============================] - 0s 48ms/step\n",
            "1/1 [==============================] - 0s 48ms/step\n",
            "1/1 [==============================] - 0s 46ms/step\n",
            "1/1 [==============================] - 0s 35ms/step\n",
            "1/1 [==============================] - 0s 29ms/step\n",
            "1/1 [==============================] - 0s 30ms/step\n",
            "1/1 [==============================] - 0s 28ms/step\n",
            "1/1 [==============================] - 0s 28ms/step\n",
            "1/1 [==============================] - 0s 31ms/step\n",
            "1/1 [==============================] - 0s 30ms/step\n",
            "1/1 [==============================] - 0s 30ms/step\n",
            "1/1 [==============================] - 0s 31ms/step\n",
            "1/1 [==============================] - 0s 30ms/step\n",
            "1/1 [==============================] - 0s 33ms/step\n",
            "1/1 [==============================] - 0s 30ms/step\n",
            "1/1 [==============================] - 0s 29ms/step\n",
            "1/1 [==============================] - 0s 30ms/step\n",
            "1/1 [==============================] - 0s 31ms/step\n",
            "1/1 [==============================] - 0s 38ms/step\n",
            "1/1 [==============================] - 0s 34ms/step\n",
            "1/1 [==============================] - 0s 35ms/step\n",
            "1/1 [==============================] - 0s 33ms/step\n",
            "1/1 [==============================] - 0s 29ms/step\n",
            "1/1 [==============================] - 0s 30ms/step\n",
            "1/1 [==============================] - 0s 34ms/step\n",
            "1/1 [==============================] - 0s 32ms/step\n",
            "1/1 [==============================] - 0s 30ms/step\n",
            "1/1 [==============================] - 0s 29ms/step\n",
            "1/1 [==============================] - 0s 29ms/step\n",
            "1/1 [==============================] - 0s 30ms/step\n",
            "1/1 [==============================] - 0s 30ms/step\n",
            "1/1 [==============================] - 0s 29ms/step\n",
            "1/1 [==============================] - 0s 29ms/step\n",
            "1/1 [==============================] - 0s 29ms/step\n",
            "1/1 [==============================] - 0s 31ms/step\n",
            "1/1 [==============================] - 0s 29ms/step\n",
            "1/1 [==============================] - 0s 30ms/step\n",
            "1/1 [==============================] - 0s 28ms/step\n",
            "1/1 [==============================] - 0s 28ms/step\n",
            "1/1 [==============================] - 0s 30ms/step\n",
            "1/1 [==============================] - 0s 29ms/step\n",
            "1/1 [==============================] - 0s 29ms/step\n",
            "1/1 [==============================] - 0s 30ms/step\n",
            "1/1 [==============================] - 0s 28ms/step\n",
            "1/1 [==============================] - 0s 29ms/step\n",
            "1/1 [==============================] - 0s 28ms/step\n",
            "1/1 [==============================] - 0s 31ms/step\n",
            "1/1 [==============================] - 0s 32ms/step\n",
            "Accuracy: 0.168141592920354\n"
          ]
        }
      ],
      "source": [
        "import os\n",
        "import numpy as np\n",
        "from tensorflow.keras.preprocessing import image\n",
        "\n",
        "validation_folder = '/content/drive/MyDrive/Dataset/Validation'\n",
        "correct_predictions = 0\n",
        "total_images = 0\n",
        "\n",
        "# Iterate through all images in the validation folder\n",
        "for filename in os.listdir(validation_folder):\n",
        "    img_path = os.path.join(validation_folder, filename)\n",
        "\n",
        "    # Load and preprocess the image\n",
        "    img = image.load_img(img_path, target_size=(128, 128))\n",
        "    img_array = image.img_to_array(img)\n",
        "    img_array = np.expand_dims(img_array, axis=0)\n",
        "    img_array /= 255.0\n",
        "\n",
        "    # Predict using the model\n",
        "    prediction = model.predict(img_array)\n",
        "\n",
        "    # Determine the ground truth label from the filename\n",
        "    ground_truth = filename.split('.')[0]  # Assuming filename is in the format \"ID_label.png\"\n",
        "    ground_truth_label = ground_truth.split('_')[-1]  # Extract label from filename\n",
        "\n",
        "    # Convert label to binary (1 for non-parasite, 0 for parasite)\n",
        "    ground_truth_binary = 1 if ground_truth_label == 'nonparasite' else 0\n",
        "\n",
        "    # Compare predicted label with ground truth label\n",
        "    if (prediction >= 0.5 and ground_truth_binary == 1) or (prediction < 0.5 and ground_truth_binary == 0):\n",
        "        correct_predictions += 1\n",
        "\n",
        "    total_images += 1\n",
        "\n",
        "# Calculate accuracy\n",
        "accuracy = correct_predictions / total_images\n",
        "print(\"Accuracy:\", accuracy)\n"
      ]
    },
    {
      "cell_type": "code",
      "execution_count": null,
      "metadata": {
        "colab": {
          "base_uri": "https://localhost:8080/",
          "height": 106
        },
        "id": "mAR8zi9Z6Csl",
        "outputId": "5acedfcb-af59-4344-d650-0361866772f0"
      },
      "outputs": [
        {
          "ename": "IndentationError",
          "evalue": "expected an indented block after function definition on line 4 (<ipython-input-19-8b6e536a4308>, line 9)",
          "output_type": "error",
          "traceback": [
            "\u001b[0;36m  File \u001b[0;32m\"<ipython-input-19-8b6e536a4308>\"\u001b[0;36m, line \u001b[0;32m9\u001b[0m\n\u001b[0;31m    def evaluate_model_predictions(model, img):\u001b[0m\n\u001b[0m    ^\u001b[0m\n\u001b[0;31mIndentationError\u001b[0m\u001b[0;31m:\u001b[0m expected an indented block after function definition on line 4\n"
          ]
        }
      ],
      "source": [
        "import cv2\n",
        "import numpy as np\n",
        "\n",
        "def calculate_noise_detection_percentage(img):\n",
        "    # Apply morphological operations to detect noise\n",
        "    # Calculate the noise detection percentage\n",
        "    # Return the noise detection percentage\n",
        "\n",
        "def evaluate_model_predictions(model, img):\n",
        "    # Make predictions using the model\n",
        "    # Compare the predicted labels with the ground truth labels\n",
        "    # Calculate true positives, true negatives, false positives, and false negatives\n",
        "    # Calculate the accuracy percentage\n",
        "    # Return the accuracy percentage\n",
        "\n",
        "parasitic_folder = '/content/drive/MyDrive/Dataset/Train/parasite'\n",
        "non_parasitic_folder = '/content/drive/MyDrive/Dataset/Train/uninfected'\n",
        "\n",
        "parasitic_noise_detection_percentages = []\n",
        "parasitic_accuracy_percentages = []\n",
        "\n",
        "non_parasitic_noise_detection_percentages = []\n",
        "non_parasitic_accuracy_percentages = []\n",
        "\n",
        "# Iterate through parasitic images\n",
        "for filename in os.listdir(parasitic_folder):\n",
        "    img_path = os.path.join(parasitic_folder, filename)\n",
        "    img = cv2.imread(img_path)\n",
        "\n",
        "    noise_detection_percentage = calculate_noise_detection_percentage(img)\n",
        "    accuracy_percentage = evaluate_model_predictions(model, img)\n",
        "\n",
        "    parasitic_noise_detection_percentages.append(noise_detection_percentage)\n",
        "    parasitic_accuracy_percentages.append(accuracy_percentage)\n",
        "\n",
        "# Iterate through non-parasitic images\n",
        "for filename in os.listdir(non_parasitic_folder):\n",
        "    img_path = os.path.join(non_parasitic_folder, filename)\n",
        "    img = cv2.imread(img_path)\n",
        "\n",
        "    noise_detection_percentage = calculate_noise_detection_percentage(img)\n",
        "    accuracy_percentage = evaluate_model_predictions(model, img)\n",
        "\n",
        "    non_parasitic_noise_detection_percentages.append(noise_detection_percentage)\n",
        "    non_parasitic_accuracy_percentages.append(accuracy_percentage)\n",
        "\n",
        "# Calculate average noise detection percentage and accuracy percentage for parasitic images\n",
        "average_parasitic_noise_detection_percentage = np.mean(parasitic_noise_detection_percentages)\n",
        "average_parasitic_accuracy_percentage = np.mean(parasitic_accuracy_percentages)\n",
        "\n",
        "# Calculate average noise detection percentage and accuracy percentage for non-parasitic images\n",
        "average_non_parasitic_noise_detection_percentage = np.mean(non_parasitic_noise_detection_percentages)\n",
        "average_non_parasitic_accuracy_percentage = np.mean(non_parasitic_accuracy_percentages)\n",
        "\n",
        "print(\"Parasitic Images:\")\n",
        "print(\"Average Noise Detection Percentage:\", average_parasitic_noise_detection_percentage)\n",
        "print(\"Average Accuracy Percentage:\", average_parasitic_accuracy_percentage)\n",
        "\n",
        "print(\"\\nNon-Parasitic Images:\")\n",
        "print(\"Average Noise Detection Percentage:\", average_non_parasitic_noise_detection_percentage)\n",
        "print(\"Average Accuracy Percentage:\", average_non_parasitic_accuracy_percentage)\n"
      ]
    },
    {
      "cell_type": "code",
      "execution_count": null,
      "metadata": {
        "colab": {
          "base_uri": "https://localhost:8080/"
        },
        "id": "Qg1DtlXSRvLR",
        "outputId": "551a3871-491b-41e1-fb81-a3c754ea8a92"
      },
      "outputs": [
        {
          "name": "stdout",
          "output_type": "stream",
          "text": [
            " * Serving Flask app '__main__'\n",
            " * Debug mode: off\n"
          ]
        },
        {
          "name": "stderr",
          "output_type": "stream",
          "text": [
            "INFO:werkzeug:\u001b[31m\u001b[1mWARNING: This is a development server. Do not use it in a production deployment. Use a production WSGI server instead.\u001b[0m\n",
            " * Running on http://127.0.0.1:5000\n",
            "INFO:werkzeug:\u001b[33mPress CTRL+C to quit\u001b[0m\n",
            "Exception in thread Thread-101:\n",
            "Traceback (most recent call last):\n",
            "  File \"/usr/local/lib/python3.10/dist-packages/urllib3/connection.py\", line 203, in _new_conn\n",
            "    sock = connection.create_connection(\n",
            "  File \"/usr/local/lib/python3.10/dist-packages/urllib3/util/connection.py\", line 85, in create_connection\n",
            "    raise err\n",
            "  File \"/usr/local/lib/python3.10/dist-packages/urllib3/util/connection.py\", line 73, in create_connection\n",
            "    sock.connect(sa)\n",
            "ConnectionRefusedError: [Errno 111] Connection refused\n",
            "\n",
            "The above exception was the direct cause of the following exception:\n",
            "\n",
            "Traceback (most recent call last):\n",
            "  File \"/usr/local/lib/python3.10/dist-packages/urllib3/connectionpool.py\", line 791, in urlopen\n",
            "    response = self._make_request(\n",
            "  File \"/usr/local/lib/python3.10/dist-packages/urllib3/connectionpool.py\", line 497, in _make_request\n",
            "    conn.request(\n",
            "  File \"/usr/local/lib/python3.10/dist-packages/urllib3/connection.py\", line 395, in request\n",
            "    self.endheaders()\n",
            "  File \"/usr/lib/python3.10/http/client.py\", line 1278, in endheaders\n",
            "    self._send_output(message_body, encode_chunked=encode_chunked)\n",
            "  File \"/usr/lib/python3.10/http/client.py\", line 1038, in _send_output\n",
            "    self.send(msg)\n",
            "  File \"/usr/lib/python3.10/http/client.py\", line 976, in send\n",
            "    self.connect()\n",
            "  File \"/usr/local/lib/python3.10/dist-packages/urllib3/connection.py\", line 243, in connect\n",
            "    self.sock = self._new_conn()\n",
            "  File \"/usr/local/lib/python3.10/dist-packages/urllib3/connection.py\", line 218, in _new_conn\n",
            "    raise NewConnectionError(\n",
            "urllib3.exceptions.NewConnectionError: <urllib3.connection.HTTPConnection object at 0x7dbcb807bac0>: Failed to establish a new connection: [Errno 111] Connection refused\n",
            "\n",
            "The above exception was the direct cause of the following exception:\n",
            "\n",
            "Traceback (most recent call last):\n",
            "  File \"/usr/local/lib/python3.10/dist-packages/requests/adapters.py\", line 486, in send\n",
            "    resp = conn.urlopen(\n",
            "  File \"/usr/local/lib/python3.10/dist-packages/urllib3/connectionpool.py\", line 845, in urlopen\n",
            "    retries = retries.increment(\n",
            "  File \"/usr/local/lib/python3.10/dist-packages/urllib3/util/retry.py\", line 515, in increment\n",
            "    raise MaxRetryError(_pool, url, reason) from reason  # type: ignore[arg-type]\n",
            "urllib3.exceptions.MaxRetryError: HTTPConnectionPool(host='localhost', port=4040): Max retries exceeded with url: /api/tunnels (Caused by NewConnectionError('<urllib3.connection.HTTPConnection object at 0x7dbcb807bac0>: Failed to establish a new connection: [Errno 111] Connection refused'))\n",
            "\n",
            "During handling of the above exception, another exception occurred:\n",
            "\n",
            "Traceback (most recent call last):\n",
            "  File \"/usr/lib/python3.10/threading.py\", line 1016, in _bootstrap_inner\n",
            "    self.run()\n",
            "  File \"/usr/lib/python3.10/threading.py\", line 1378, in run\n",
            "    self.function(*self.args, **self.kwargs)\n",
            "  File \"/usr/local/lib/python3.10/dist-packages/flask_ngrok.py\", line 70, in start_ngrok\n",
            "    ngrok_address = _run_ngrok()\n",
            "  File \"/usr/local/lib/python3.10/dist-packages/flask_ngrok.py\", line 35, in _run_ngrok\n",
            "    tunnel_url = requests.get(localhost_url).text  # Get the tunnel information\n",
            "  File \"/usr/local/lib/python3.10/dist-packages/requests/api.py\", line 73, in get\n",
            "    return request(\"get\", url, params=params, **kwargs)\n",
            "  File \"/usr/local/lib/python3.10/dist-packages/requests/api.py\", line 59, in request\n",
            "    return session.request(method=method, url=url, **kwargs)\n",
            "  File \"/usr/local/lib/python3.10/dist-packages/requests/sessions.py\", line 589, in request\n",
            "    resp = self.send(prep, **send_kwargs)\n",
            "  File \"/usr/local/lib/python3.10/dist-packages/requests/sessions.py\", line 703, in send\n",
            "    r = adapter.send(request, **kwargs)\n",
            "  File \"/usr/local/lib/python3.10/dist-packages/requests/adapters.py\", line 519, in send\n",
            "    raise ConnectionError(e, request=request)\n",
            "requests.exceptions.ConnectionError: HTTPConnectionPool(host='localhost', port=4040): Max retries exceeded with url: /api/tunnels (Caused by NewConnectionError('<urllib3.connection.HTTPConnection object at 0x7dbcb807bac0>: Failed to establish a new connection: [Errno 111] Connection refused'))\n"
          ]
        }
      ],
      "source": [
        "from flask import Flask, render_template\n",
        "from flask_ngrok import run_with_ngrok\n",
        "\n",
        "app = Flask(__name__, template_folder='/content/drive/MyDrive/templates')\n",
        "run_with_ngrok(app)\n",
        "\n",
        "@app.route(\"/\")\n",
        "def home():\n",
        "    return render_template('index.html')\n",
        "app.run()"
      ]
    },
    {
      "cell_type": "code",
      "execution_count": null,
      "metadata": {
        "colab": {
          "base_uri": "https://localhost:8080/"
        },
        "id": "AqzS08Lesb9V",
        "outputId": "b07747e7-ca64-48b5-abe0-257866db4f67"
      },
      "outputs": [
        {
          "name": "stdout",
          "output_type": "stream",
          "text": [
            "Epoch 1/20\n",
            "11/11 [==============================] - 54s 5s/step - loss: 0.6964 - accuracy: 0.5345 - val_loss: 0.7440 - val_accuracy: 0.3077\n",
            "Epoch 2/20\n",
            "11/11 [==============================] - 14s 1s/step - loss: 0.6984 - accuracy: 0.5015 - val_loss: 0.6679 - val_accuracy: 0.6923\n",
            "Epoch 3/20\n",
            "11/11 [==============================] - 12s 1s/step - loss: 0.6863 - accuracy: 0.5465 - val_loss: 0.7122 - val_accuracy: 0.4231\n",
            "Epoch 4/20\n",
            "11/11 [==============================] - 13s 1s/step - loss: 0.6859 - accuracy: 0.5165 - val_loss: 0.6716 - val_accuracy: 0.6923\n",
            "Epoch 5/20\n",
            "11/11 [==============================] - 12s 1s/step - loss: 0.6655 - accuracy: 0.6246 - val_loss: 0.6984 - val_accuracy: 0.5769\n",
            "Epoch 6/20\n",
            "11/11 [==============================] - 13s 1s/step - loss: 0.6578 - accuracy: 0.6276 - val_loss: 0.6759 - val_accuracy: 0.6538\n",
            "Epoch 7/20\n",
            "11/11 [==============================] - 13s 1s/step - loss: 0.6304 - accuracy: 0.6456 - val_loss: 0.6902 - val_accuracy: 0.6538\n",
            "Epoch 8/20\n",
            "11/11 [==============================] - 12s 972ms/step - loss: 0.6147 - accuracy: 0.6577 - val_loss: 0.8285 - val_accuracy: 0.1923\n",
            "Epoch 9/20\n",
            "11/11 [==============================] - 13s 1s/step - loss: 0.5870 - accuracy: 0.7237 - val_loss: 0.7673 - val_accuracy: 0.3077\n",
            "Epoch 10/20\n",
            "11/11 [==============================] - 11s 966ms/step - loss: 0.5499 - accuracy: 0.7447 - val_loss: 0.8182 - val_accuracy: 0.3077\n",
            "Epoch 11/20\n",
            "11/11 [==============================] - 13s 1s/step - loss: 0.5254 - accuracy: 0.7177 - val_loss: 0.8950 - val_accuracy: 0.2692\n",
            "Epoch 12/20\n",
            "11/11 [==============================] - 13s 1s/step - loss: 0.5147 - accuracy: 0.6937 - val_loss: 0.9658 - val_accuracy: 0.3846\n",
            "Epoch 13/20\n",
            "11/11 [==============================] - 11s 950ms/step - loss: 0.4886 - accuracy: 0.7447 - val_loss: 0.9232 - val_accuracy: 0.3462\n",
            "Epoch 14/20\n",
            "11/11 [==============================] - 13s 1s/step - loss: 0.4749 - accuracy: 0.7508 - val_loss: 0.9469 - val_accuracy: 0.3846\n",
            "Epoch 15/20\n",
            "11/11 [==============================] - 13s 1s/step - loss: 0.4686 - accuracy: 0.7688 - val_loss: 0.9736 - val_accuracy: 0.4231\n",
            "Epoch 16/20\n",
            "11/11 [==============================] - 13s 1s/step - loss: 0.4805 - accuracy: 0.7508 - val_loss: 0.9421 - val_accuracy: 0.2692\n",
            "Epoch 17/20\n",
            "11/11 [==============================] - 13s 1s/step - loss: 0.4645 - accuracy: 0.7808 - val_loss: 1.0055 - val_accuracy: 0.2692\n",
            "Epoch 18/20\n",
            "11/11 [==============================] - 12s 1s/step - loss: 0.4573 - accuracy: 0.7778 - val_loss: 0.9707 - val_accuracy: 0.3077\n",
            "Epoch 19/20\n",
            "11/11 [==============================] - 12s 943ms/step - loss: 0.4665 - accuracy: 0.7778 - val_loss: 0.9837 - val_accuracy: 0.5000\n",
            "Epoch 20/20\n",
            "11/11 [==============================] - 13s 1s/step - loss: 0.4303 - accuracy: 0.7778 - val_loss: 0.9702 - val_accuracy: 0.3462\n",
            "1/1 [==============================] - 0s 142ms/step\n",
            "1/1 [==============================] - 0s 45ms/step\n",
            "1/1 [==============================] - 0s 110ms/step\n",
            "1/1 [==============================] - 0s 41ms/step\n",
            "1/1 [==============================] - 0s 40ms/step\n",
            "1/1 [==============================] - 0s 42ms/step\n",
            "1/1 [==============================] - 0s 44ms/step\n",
            "1/1 [==============================] - 0s 48ms/step\n",
            "1/1 [==============================] - 0s 53ms/step\n",
            "1/1 [==============================] - 0s 29ms/step\n",
            "1/1 [==============================] - 0s 31ms/step\n",
            "1/1 [==============================] - 0s 33ms/step\n",
            "1/1 [==============================] - 0s 32ms/step\n",
            "1/1 [==============================] - 0s 30ms/step\n",
            "1/1 [==============================] - 0s 30ms/step\n",
            "1/1 [==============================] - 0s 30ms/step\n",
            "1/1 [==============================] - 0s 29ms/step\n",
            "1/1 [==============================] - 0s 29ms/step\n",
            "1/1 [==============================] - 0s 29ms/step\n",
            "1/1 [==============================] - 0s 32ms/step\n",
            "1/1 [==============================] - 0s 30ms/step\n",
            "1/1 [==============================] - 0s 28ms/step\n",
            "1/1 [==============================] - 0s 30ms/step\n",
            "1/1 [==============================] - 0s 28ms/step\n",
            "1/1 [==============================] - 0s 30ms/step\n",
            "1/1 [==============================] - 0s 26ms/step\n",
            "1/1 [==============================] - 0s 26ms/step\n",
            "1/1 [==============================] - 0s 26ms/step\n",
            "1/1 [==============================] - 0s 27ms/step\n",
            "1/1 [==============================] - 0s 27ms/step\n",
            "1/1 [==============================] - 0s 38ms/step\n",
            "1/1 [==============================] - 0s 26ms/step\n",
            "1/1 [==============================] - 0s 28ms/step\n",
            "1/1 [==============================] - 0s 25ms/step\n",
            "1/1 [==============================] - 0s 28ms/step\n",
            "1/1 [==============================] - 0s 27ms/step\n",
            "1/1 [==============================] - 0s 26ms/step\n",
            "1/1 [==============================] - 0s 27ms/step\n",
            "1/1 [==============================] - 0s 27ms/step\n",
            "1/1 [==============================] - 0s 28ms/step\n",
            "1/1 [==============================] - 0s 26ms/step\n",
            "1/1 [==============================] - 0s 27ms/step\n",
            "1/1 [==============================] - 0s 26ms/step\n",
            "1/1 [==============================] - 0s 28ms/step\n",
            "1/1 [==============================] - 0s 27ms/step\n",
            "1/1 [==============================] - 0s 25ms/step\n",
            "1/1 [==============================] - 0s 26ms/step\n",
            "1/1 [==============================] - 0s 29ms/step\n",
            "1/1 [==============================] - 0s 26ms/step\n",
            "1/1 [==============================] - 0s 29ms/step\n",
            "1/1 [==============================] - 0s 26ms/step\n",
            "1/1 [==============================] - 0s 27ms/step\n",
            "1/1 [==============================] - 0s 26ms/step\n",
            "1/1 [==============================] - 0s 26ms/step\n",
            "1/1 [==============================] - 0s 26ms/step\n",
            "1/1 [==============================] - 0s 33ms/step\n",
            "1/1 [==============================] - 0s 26ms/step\n",
            "1/1 [==============================] - 0s 27ms/step\n",
            "1/1 [==============================] - 0s 27ms/step\n",
            "1/1 [==============================] - 0s 27ms/step\n",
            "1/1 [==============================] - 0s 26ms/step\n",
            "1/1 [==============================] - 0s 30ms/step\n",
            "1/1 [==============================] - 0s 34ms/step\n",
            "1/1 [==============================] - 0s 29ms/step\n",
            "1/1 [==============================] - 0s 31ms/step\n",
            "1/1 [==============================] - 0s 30ms/step\n",
            "1/1 [==============================] - 0s 31ms/step\n",
            "1/1 [==============================] - 0s 30ms/step\n",
            "1/1 [==============================] - 0s 29ms/step\n",
            "1/1 [==============================] - 0s 29ms/step\n",
            "1/1 [==============================] - 0s 29ms/step\n",
            "1/1 [==============================] - 0s 29ms/step\n",
            "1/1 [==============================] - 0s 29ms/step\n",
            "1/1 [==============================] - 0s 31ms/step\n",
            "1/1 [==============================] - 0s 32ms/step\n",
            "1/1 [==============================] - 0s 31ms/step\n",
            "1/1 [==============================] - 0s 29ms/step\n",
            "1/1 [==============================] - 0s 32ms/step\n",
            "1/1 [==============================] - 0s 32ms/step\n",
            "1/1 [==============================] - 0s 29ms/step\n",
            "1/1 [==============================] - 0s 28ms/step\n",
            "1/1 [==============================] - 0s 30ms/step\n",
            "1/1 [==============================] - 0s 35ms/step\n",
            "1/1 [==============================] - 0s 28ms/step\n",
            "1/1 [==============================] - 0s 26ms/step\n",
            "1/1 [==============================] - 0s 27ms/step\n",
            "1/1 [==============================] - 0s 26ms/step\n",
            "1/1 [==============================] - 0s 27ms/step\n",
            "1/1 [==============================] - 0s 30ms/step\n",
            "1/1 [==============================] - 0s 26ms/step\n",
            "1/1 [==============================] - 0s 26ms/step\n",
            "1/1 [==============================] - 0s 27ms/step\n",
            "1/1 [==============================] - 0s 26ms/step\n",
            "1/1 [==============================] - 0s 28ms/step\n",
            "1/1 [==============================] - 0s 27ms/step\n",
            "1/1 [==============================] - 0s 35ms/step\n",
            "1/1 [==============================] - 0s 28ms/step\n",
            "1/1 [==============================] - 0s 29ms/step\n",
            "1/1 [==============================] - 0s 29ms/step\n",
            "1/1 [==============================] - 0s 29ms/step\n",
            "1/1 [==============================] - 0s 29ms/step\n",
            "1/1 [==============================] - 0s 40ms/step\n",
            "1/1 [==============================] - 0s 30ms/step\n",
            "1/1 [==============================] - 0s 30ms/step\n",
            "1/1 [==============================] - 0s 29ms/step\n",
            "1/1 [==============================] - 0s 29ms/step\n",
            "1/1 [==============================] - 0s 30ms/step\n",
            "1/1 [==============================] - 0s 27ms/step\n",
            "1/1 [==============================] - 0s 26ms/step\n",
            "1/1 [==============================] - 0s 27ms/step\n",
            "1/1 [==============================] - 0s 27ms/step\n",
            "1/1 [==============================] - 0s 28ms/step\n",
            "1/1 [==============================] - 0s 27ms/step\n",
            "1/1 [==============================] - 0s 34ms/step\n",
            "1/1 [==============================] - 0s 27ms/step\n",
            "1/1 [==============================] - 0s 26ms/step\n",
            "1/1 [==============================] - 0s 26ms/step\n",
            "1/1 [==============================] - 0s 27ms/step\n",
            "1/1 [==============================] - 0s 27ms/step\n",
            "1/1 [==============================] - 0s 29ms/step\n",
            "1/1 [==============================] - 0s 29ms/step\n",
            "1/1 [==============================] - 0s 29ms/step\n",
            "1/1 [==============================] - 0s 32ms/step\n",
            "1/1 [==============================] - 0s 46ms/step\n",
            "1/1 [==============================] - 0s 58ms/step\n",
            "1/1 [==============================] - 0s 51ms/step\n",
            "1/1 [==============================] - 0s 42ms/step\n",
            "1/1 [==============================] - 0s 50ms/step\n",
            "1/1 [==============================] - 0s 43ms/step\n",
            "1/1 [==============================] - 0s 43ms/step\n",
            "1/1 [==============================] - 0s 43ms/step\n",
            "1/1 [==============================] - 0s 55ms/step\n",
            "1/1 [==============================] - 0s 48ms/step\n",
            "1/1 [==============================] - 0s 48ms/step\n",
            "1/1 [==============================] - 0s 43ms/step\n",
            "1/1 [==============================] - 0s 44ms/step\n",
            "1/1 [==============================] - 0s 52ms/step\n",
            "1/1 [==============================] - 0s 50ms/step\n",
            "1/1 [==============================] - 0s 42ms/step\n",
            "1/1 [==============================] - 0s 46ms/step\n",
            "1/1 [==============================] - 0s 43ms/step\n",
            "1/1 [==============================] - 0s 50ms/step\n",
            "1/1 [==============================] - 0s 50ms/step\n",
            "1/1 [==============================] - 0s 45ms/step\n",
            "1/1 [==============================] - 0s 42ms/step\n",
            "1/1 [==============================] - 0s 44ms/step\n",
            "1/1 [==============================] - 0s 46ms/step\n",
            "1/1 [==============================] - 0s 44ms/step\n",
            "1/1 [==============================] - 0s 44ms/step\n",
            "1/1 [==============================] - 0s 48ms/step\n",
            "1/1 [==============================] - 0s 56ms/step\n",
            "1/1 [==============================] - 0s 32ms/step\n",
            "1/1 [==============================] - 0s 33ms/step\n",
            "1/1 [==============================] - 0s 28ms/step\n",
            "1/1 [==============================] - 0s 30ms/step\n",
            "1/1 [==============================] - 0s 29ms/step\n",
            "1/1 [==============================] - 0s 29ms/step\n",
            "1/1 [==============================] - 0s 31ms/step\n",
            "1/1 [==============================] - 0s 29ms/step\n",
            "1/1 [==============================] - 0s 28ms/step\n",
            "1/1 [==============================] - 0s 27ms/step\n",
            "1/1 [==============================] - 0s 28ms/step\n",
            "1/1 [==============================] - 0s 26ms/step\n",
            "1/1 [==============================] - 0s 29ms/step\n",
            "1/1 [==============================] - 0s 28ms/step\n",
            "1/1 [==============================] - 0s 29ms/step\n",
            "1/1 [==============================] - 0s 27ms/step\n",
            "1/1 [==============================] - 0s 36ms/step\n",
            "1/1 [==============================] - 0s 26ms/step\n",
            "1/1 [==============================] - 0s 26ms/step\n",
            "1/1 [==============================] - 0s 27ms/step\n",
            "1/1 [==============================] - 0s 26ms/step\n",
            "1/1 [==============================] - 0s 26ms/step\n",
            "1/1 [==============================] - 0s 27ms/step\n",
            "1/1 [==============================] - 0s 26ms/step\n",
            "1/1 [==============================] - 0s 30ms/step\n",
            "1/1 [==============================] - 0s 27ms/step\n",
            "1/1 [==============================] - 0s 26ms/step\n",
            "1/1 [==============================] - 0s 26ms/step\n",
            "1/1 [==============================] - 0s 28ms/step\n",
            "1/1 [==============================] - 0s 32ms/step\n",
            "1/1 [==============================] - 0s 26ms/step\n",
            "1/1 [==============================] - 0s 26ms/step\n",
            "1/1 [==============================] - 0s 27ms/step\n",
            "1/1 [==============================] - 0s 26ms/step\n",
            "1/1 [==============================] - 0s 27ms/step\n",
            "1/1 [==============================] - 0s 26ms/step\n",
            "1/1 [==============================] - 0s 26ms/step\n",
            "1/1 [==============================] - 0s 28ms/step\n",
            "1/1 [==============================] - 0s 26ms/step\n",
            "1/1 [==============================] - 0s 26ms/step\n",
            "1/1 [==============================] - 0s 27ms/step\n",
            "1/1 [==============================] - 0s 27ms/step\n",
            "1/1 [==============================] - 0s 27ms/step\n",
            "1/1 [==============================] - 0s 26ms/step\n",
            "1/1 [==============================] - 0s 28ms/step\n",
            "1/1 [==============================] - 0s 26ms/step\n",
            "1/1 [==============================] - 0s 34ms/step\n",
            "1/1 [==============================] - 0s 26ms/step\n",
            "1/1 [==============================] - 0s 27ms/step\n",
            "1/1 [==============================] - 0s 26ms/step\n",
            "1/1 [==============================] - 0s 34ms/step\n",
            "1/1 [==============================] - 0s 27ms/step\n",
            "1/1 [==============================] - 0s 27ms/step\n",
            "1/1 [==============================] - 0s 26ms/step\n",
            "1/1 [==============================] - 0s 27ms/step\n",
            "1/1 [==============================] - 0s 28ms/step\n",
            "1/1 [==============================] - 0s 27ms/step\n",
            "1/1 [==============================] - 0s 27ms/step\n",
            "1/1 [==============================] - 0s 30ms/step\n",
            "1/1 [==============================] - 0s 31ms/step\n",
            "1/1 [==============================] - 0s 29ms/step\n",
            "1/1 [==============================] - 0s 28ms/step\n",
            "1/1 [==============================] - 0s 30ms/step\n",
            "1/1 [==============================] - 0s 30ms/step\n",
            "1/1 [==============================] - 0s 29ms/step\n",
            "1/1 [==============================] - 0s 28ms/step\n",
            "1/1 [==============================] - 0s 33ms/step\n",
            "1/1 [==============================] - 0s 29ms/step\n",
            "1/1 [==============================] - 0s 31ms/step\n",
            "\n",
            "Count:\n",
            "Parasitic: 62\n",
            "Non-Parasitic: 158\n"
          ]
        }
      ],
      "source": [
        "import os\n",
        "import cv2\n",
        "import numpy as np\n",
        "from tensorflow.keras.preprocessing import image\n",
        "from tensorflow.keras.models import Sequential\n",
        "from tensorflow.keras.layers import Conv2D, MaxPooling2D, Flatten, Dense, Dropout\n",
        "from tensorflow.keras.optimizers import Adam\n",
        "\n",
        "# Define the model\n",
        "model = Sequential([\n",
        "    Conv2D(32, (3, 3), activation='relu', input_shape=(128, 128, 3)),\n",
        "    MaxPooling2D((2, 2)),\n",
        "    Conv2D(64, (3, 3), activation='relu'),\n",
        "    MaxPooling2D((2, 2)),\n",
        "    Conv2D(128, (3, 3), activation='relu'),\n",
        "    MaxPooling2D((2, 2)),\n",
        "    Flatten(),\n",
        "    Dense(128, activation='relu'),\n",
        "    Dropout(0.5),  # Adding dropout for regularization\n",
        "    Dense(1, activation='sigmoid')\n",
        "])\n",
        "\n",
        "# Compile the model\n",
        "optimizer = Adam(learning_rate=0.0001)  # Adjusted learning rate\n",
        "model.compile(optimizer=optimizer, loss='binary_crossentropy', metrics=['accuracy'])\n",
        "\n",
        "# Model training\n",
        "history = model.fit(train_generator, epochs=20, validation_data=validation_generator)\n",
        "\n",
        "# Model evaluation\n"
      ]
    },
    {
      "cell_type": "code",
      "execution_count": null,
      "metadata": {
        "colab": {
          "base_uri": "https://localhost:8080/"
        },
        "id": "9vXca8_AN-Sg",
        "outputId": "6d16b8fe-3a26-46bc-eda1-36f5eba70b14"
      },
      "outputs": [
        {
          "name": "stdout",
          "output_type": "stream",
          "text": [
            "Enter the ID of the image file: 4021.png\n",
            "1/1 [==============================] - 0s 30ms/step\n",
            "ID: 4021.png, Non-Parasitic\n"
          ]
        }
      ],
      "source": [
        "import os\n",
        "import numpy as np\n",
        "from tensorflow.keras.preprocessing import image\n",
        "\n",
        "validation_folder = '/content/drive/MyDrive/Dataset/Validation'\n",
        "\n",
        "# Get input ID from user\n",
        "input_id = input(\"Enter the ID of the image file: \")\n",
        "\n",
        "# Find the corresponding file in the validation folder\n",
        "file_found = False\n",
        "for filename in os.listdir(validation_folder):\n",
        "    if filename.startswith(input_id):\n",
        "        file_found = True\n",
        "        img_path = os.path.join(validation_folder, filename)\n",
        "\n",
        "        img = image.load_img(img_path, target_size=(128, 128))\n",
        "        img_array = image.img_to_array(img)\n",
        "        img_array = np.expand_dims(img_array, axis=0)\n",
        "        img_array /= 255.0\n",
        "\n",
        "        prediction = model.predict(img_array)\n",
        "\n",
        "        if prediction[0, 0] >= 0.5:\n",
        "            print(f\"ID: {input_id}, Non-Parasitic\")\n",
        "        elif prediction[0,0] <=0.5:\n",
        "            print(f\"ID: {input_id}, Parasitic\")\n",
        "        else:\n",
        "            print(f\"ID: {input_id}, No image found with ID: {input_id}\")\n",
        "\n",
        "        break\n",
        "\n",
        "if not file_found:\n",
        "    print(f\"No image found with ID: {input_id} in the validation folder.\")\n",
        "\n"
      ]
    },
    {
      "cell_type": "code",
      "execution_count": null,
      "metadata": {
        "colab": {
          "base_uri": "https://localhost:8080/"
        },
        "id": "00x8kFXKoC1_",
        "outputId": "d50586eb-655a-42db-a824-cecb7617da1c"
      },
      "outputs": [
        {
          "name": "stdout",
          "output_type": "stream",
          "text": [
            "Noise detection percentage for the entire dataset: 0.49%\n"
          ]
        }
      ],
      "source": [
        "import cv2\n",
        "import numpy as np\n",
        "import os\n",
        "\n",
        "def calculate_noise_detection_percentage(image_folder):\n",
        "    total_non_zero_pixels = 0\n",
        "    total_removed_pixels = 0\n",
        "\n",
        "    # Define the kernel\n",
        "    kernel1 = np.ones((9, 9), np.uint8)\n",
        "\n",
        "    # Loop through all images in the folder\n",
        "    for filename in os.listdir(image_folder):\n",
        "        # Construct the full path to the image\n",
        "        image_path = os.path.join(image_folder, filename)\n",
        "\n",
        "        # Read the input image\n",
        "        my_img = cv2.imread(image_path, 0)\n",
        "\n",
        "        if my_img is not None:\n",
        "            # Count the number of non-zero pixels in the original image\n",
        "            original_non_zero_pixels = np.count_nonzero(my_img)\n",
        "\n",
        "            # Apply morphology operation (opening)\n",
        "            clean1 = cv2.morphologyEx(my_img, cv2.MORPH_OPEN, kernel1)\n",
        "\n",
        "            # Count the number of non-zero pixels in the processed image\n",
        "            processed_non_zero_pixels = np.count_nonzero(clean1)\n",
        "\n",
        "            # Calculate the number of removed pixels\n",
        "            removed_pixels = original_non_zero_pixels - processed_non_zero_pixels\n",
        "\n",
        "            total_non_zero_pixels += original_non_zero_pixels\n",
        "            total_removed_pixels += removed_pixels\n",
        "\n",
        "    # Calculate the noise detection percentage for the entire dataset\n",
        "    noise_detection_percentage = (total_removed_pixels / total_non_zero_pixels) * 100\n",
        "\n",
        "    return noise_detection_percentage\n",
        "\n",
        "# Path to the folder containing all images\n",
        "image_folder = '/content/drive/MyDrive/Dataset/Validation'  # Update this with your actual folder path\n",
        "\n",
        "# Calculate noise detection percentage for the entire dataset\n",
        "noise_percentage = calculate_noise_detection_percentage(image_folder)\n",
        "print(f\"Noise detection percentage for the entire dataset: {noise_percentage:.2f}%\")\n"
      ]
    },
    {
      "cell_type": "code",
      "execution_count": null,
      "metadata": {
        "id": "E8NZLRt9OPDy"
      },
      "outputs": [],
      "source": []
    }
  ],
  "metadata": {
    "colab": {
      "provenance": [],
      "mount_file_id": "1pOQ49-qrEoOpUkTWipu5MTGswCsPs5td",
      "authorship_tag": "ABX9TyNMnerKJ3jdbKYuc+sT9k5+",
      "include_colab_link": true
    },
    "kernelspec": {
      "display_name": "Python 3",
      "name": "python3"
    },
    "language_info": {
      "name": "python"
    }
  },
  "nbformat": 4,
  "nbformat_minor": 0
}